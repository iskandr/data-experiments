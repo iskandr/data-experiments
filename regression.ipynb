{
 "metadata": {
  "name": "regression"
 },
 "nbformat": 3,
 "nbformat_minor": 0,
 "worksheets": [
  {
   "cells": [
    {
     "cell_type": "code",
     "collapsed": false,
     "input": [
      "import numpy as np"
     ],
     "language": "python",
     "metadata": {},
     "outputs": [],
     "prompt_number": 212
    },
    {
     "cell_type": "code",
     "collapsed": false,
     "input": [
      "nsamples = 10**5\n",
      "ndims = 100\n",
      "w_actual = np.random.randn(ndims)\n",
      "x = np.random.randn(nsamples, ndims)\n",
      "y = np.dot(x, w_actual) \n"
     ],
     "language": "python",
     "metadata": {},
     "outputs": []
    },
    {
     "cell_type": "code",
     "collapsed": false,
     "input": [
      "def gradient(x,y,w):\n",
      "\n",
      "    if len(x.shape) == 1:\n",
      "      return x * (np.dot(x,w) - y)\n",
      "    else:\n",
      "      g = np.zeros_like(x[0])\n",
      "      for i, xi in enumerate(x):\n",
      "        g += xi * (np.dot(xi, w) - y[i])\n",
      "      return g / x.shape[0]\n"
     ],
     "language": "python",
     "metadata": {},
     "outputs": []
    },
    {
     "cell_type": "code",
     "collapsed": false,
     "input": [
      "w_init = np.random.randn(ndims)\n"
     ],
     "language": "python",
     "metadata": {},
     "outputs": []
    },
    {
     "cell_type": "code",
     "collapsed": false,
     "input": [
      "def sgd(x, y, w_init, learning_rate = 0.001, tol = 10.0 ** -4, maxiters = 10**4, show_plot = True, verbose = True):\n",
      "    curr_err = np.inf \n",
      "    i = 0\n",
      "    norms = []\n",
      "    errs = []\n",
      "    w = w_init.copy() \n",
      "    n_samples = len(x)\n",
      "    while curr_err > tol and i < maxiters:\n",
      "        i += 1\n",
      "        sample_id = i % n_samples\n",
      "        g = gradient(x[sample_id, :],y[sample_id],w)\n",
      "        norm = np.linalg.norm(g)\n",
      "        norms.append(norm)\n",
      "        w -= learning_rate * g\n",
      "        err = np.abs(np.dot(x[sample_id, :], w) - y[sample_id])\n",
      "        errs.append(err)\n",
      "        if verbose and (i % 1000 == 0):\n",
      "          curr_err = np.mean(np.abs(np.dot(x, w) - y))\n",
      "          print \"Iter %d, training error for SGD %0.4f\" % (i, curr_err)\n",
      "    if show_plot:\n",
      "      plot(norms)\n",
      "      ylabel(\"norm\")\n",
      "      figure()\n",
      "      plot(errs)\n",
      "      ylabel(\"per-sample error\")\n",
      "    if verbose:\n",
      "      print \"Training error for SGD\", np.mean(np.abs(np.dot(x, w) - y))\n",
      "    return i, w"
     ],
     "language": "python",
     "metadata": {},
     "outputs": [],
     "prompt_number": 300
    },
    {
     "cell_type": "code",
     "collapsed": false,
     "input": [
      "_ = sgd(x,y,w_init)"
     ],
     "language": "python",
     "metadata": {},
     "outputs": [
      {
       "output_type": "stream",
       "stream": "stdout",
       "text": [
        "Iter 1000, training error for SGD 21.0150\n",
        "Iter 2000, training error for SGD 13.1229"
       ]
      },
      {
       "output_type": "stream",
       "stream": "stdout",
       "text": [
        "\n",
        "Iter 3000, training error for SGD 7.8268"
       ]
      },
      {
       "output_type": "stream",
       "stream": "stdout",
       "text": [
        "\n",
        "Iter 4000, training error for SGD 4.6925"
       ]
      },
      {
       "output_type": "stream",
       "stream": "stdout",
       "text": [
        "\n",
        "Iter 5000, training error for SGD 2.9187"
       ]
      },
      {
       "output_type": "stream",
       "stream": "stdout",
       "text": [
        "\n",
        "Iter 6000, training error for SGD 1.6960"
       ]
      },
      {
       "output_type": "stream",
       "stream": "stdout",
       "text": [
        "\n",
        "Iter 7000, training error for SGD 1.0410"
       ]
      },
      {
       "output_type": "stream",
       "stream": "stdout",
       "text": [
        "\n",
        "Iter 8000, training error for SGD 0.6319"
       ]
      },
      {
       "output_type": "stream",
       "stream": "stdout",
       "text": [
        "\n",
        "Iter 9000, training error for SGD 0.3825"
       ]
      },
      {
       "output_type": "stream",
       "stream": "stdout",
       "text": [
        "\n",
        "Iter 10000, training error for SGD 0.2298"
       ]
      },
      {
       "output_type": "stream",
       "stream": "stdout",
       "text": [
        "\n",
        "Training error for SGD"
       ]
      },
      {
       "output_type": "stream",
       "stream": "stdout",
       "text": [
        " 0.229806518387\n"
       ]
      },
      {
       "output_type": "display_data",
       "png": "[encoded data removed]"
      },
      {
       "output_type": "display_data",
       "png": "[encoded data removed]"
      }
     ],
     "prompt_number": 301
    },
    {
     "cell_type": "code",
     "collapsed": false,
     "input": [
      "def par_sgd(x, y, w_init, n_workers, \n",
      "           local_learning_rate = 0.001, \n",
      "           global_learning_rate = 0.1, \n",
      "           tol = 10.0 ** -4, \n",
      "           maxiters = 100, \n",
      "           local_steps = 10,\n",
      "           newton = True, \n",
      "           avg_weights = False, \n",
      "           momentum = True, \n",
      "           verbose = True):\n",
      "    w_global = w_init \n",
      "    curr_err = np.inf\n",
      "    norms = []\n",
      "    i = 0\n",
      "    n_samples = len(x)\n",
      "  \n",
      "    while (curr_err > tol) and (i < maxiters):\n",
      "        i += 1\n",
      "        dws = []\n",
      "        dgs = []\n",
      "        local_weights = []\n",
      "        local_xs = []\n",
      "        local_ys = []\n",
      "        for worker_num in xrange(n_workers):\n",
      "            local_idx = np.random.randint(0, n_samples, local_steps)\n",
      "      \n",
      "            local_x = x[local_idx, :]\n",
      "            local_y = y[local_idx]\n",
      "            local_xs.append(local_x)\n",
      "            local_ys.append(local_y)\n",
      "            w = w_global.copy()\n",
      "            g_start = gradient(local_x, local_y, w)\n",
      "            \n",
      "            for sample_id in xrange(local_steps):\n",
      "                xi = local_x[sample_id, :]\n",
      "                yi = local_y[sample_id]\n",
      "                g = gradient(xi, yi, w)\n",
      "                w -= local_learning_rate * g\n",
      "            dg = gradient(local_x, local_y, w) - g_start \n",
      "            dw = w - w_global\n",
      "            dws.append(dw)\n",
      "            dgs.append(dg)\n",
      "            local_weights.append(w)\n",
      "        \n",
      "    \n",
      "        if avg_weights:\n",
      "          w_combined = np.mean(np.array(local_weights), axis = 0)\n",
      "        else:\n",
      "          best_err = np.inf \n",
      "          best_weight = None\n",
      "          val_idx = np.random.randint(0, n_samples, 10*local_steps)\n",
      "          val_x = x[val_idx]\n",
      "          val_y = y[val_idx]\n",
      "          for local_weight in local_weights:\n",
      "            local_err = np.mean(np.abs(np.dot(val_x, local_weight) - val_y))\n",
      "            if local_err < best_err:\n",
      "                best_err = local_err\n",
      "                best_weight = local_weight\n",
      "          # w_avg = np.mean(np.array(local_weights), axis=0)\n",
      "          w_combined = best_weight\n",
      "        \n",
      "        local_gradients = []\n",
      "        for worker_num in xrange(n_workers):\n",
      "            local_x = local_xs[worker_num]\n",
      "            local_y = local_ys[worker_num]\n",
      "            local_gradients.append(gradient(local_x, local_y, w_combined))\n",
      "        g = np.mean(np.array(local_gradients), axis=0)\n",
      "        if newton:\n",
      "          dG = np.array(dgs)\n",
      "          dW = np.array(dws)\n",
      "          U, D, V = np.linalg.svd(dW.T, full_matrices=False)\n",
      "          Ug = np.dot(U.T, g)\n",
      "          DinvUg = np.dot(np.diag(1.0 / D), Ug)\n",
      "          VDinvUg = np.dot(V.T, DinvUg)  \n",
      "          search_dir = -np.dot(dG.T, VDinvUg)\n",
      "        else:\n",
      "          search_dir = -g\n",
      "        norms.append(np.linalg.norm(search_dir))\n",
      "        w_global = w_combined + global_learning_rate * search_dir\n",
      "        \n",
      "        if verbose:\n",
      "          curr_err = np.mean(np.abs(np.dot(x, w_global) - y))\n",
      "          print \"Iter %d, grad_norm %0.4f, search_dir norm %0.4f, training error for SGD %0.4f\" % \\\n",
      "            (i, np.linalg.norm(g), np.linalg.norm(search_dir), curr_err)\n",
      "  \n",
      "    print \"Finished after %d iters\" % i \n",
      "    return i, w_global\n",
      "        \n",
      "         "
     ],
     "language": "python",
     "metadata": {},
     "outputs": [],
     "prompt_number": 320
    },
    {
     "cell_type": "code",
     "collapsed": false,
     "input": [
      "par_sgd(x,y,w_init, 10, maxiters=10, newton=True, avg_weights = True, local_steps = 10)"
     ],
     "language": "python",
     "metadata": {},
     "outputs": [
      {
       "ename": "ValueError",
       "evalue": "matrices are not aligned",
       "output_type": "pyerr",
       "traceback": [
        "\u001b[0;31m---------------------------------------------------------------------------\u001b[0m\n\u001b[0;31mValueError\u001b[0m                                Traceback (most recent call last)",
        "\u001b[0;32m<ipython-input-321-9ace3cb2e145>\u001b[0m in \u001b[0;36m<module>\u001b[0;34m()\u001b[0m\n\u001b[0;32m----> 1\u001b[0;31m \u001b[0mpar_sgd\u001b[0m\u001b[0;34m(\u001b[0m\u001b[0mx\u001b[0m\u001b[0;34m,\u001b[0m\u001b[0my\u001b[0m\u001b[0;34m,\u001b[0m\u001b[0mw_init\u001b[0m\u001b[0;34m,\u001b[0m \u001b[0;36m10\u001b[0m\u001b[0;34m,\u001b[0m \u001b[0mmaxiters\u001b[0m\u001b[0;34m=\u001b[0m\u001b[0;36m10\u001b[0m\u001b[0;34m,\u001b[0m \u001b[0mnewton\u001b[0m\u001b[0;34m=\u001b[0m\u001b[0mTrue\u001b[0m\u001b[0;34m,\u001b[0m \u001b[0mavg_weights\u001b[0m \u001b[0;34m=\u001b[0m \u001b[0mTrue\u001b[0m\u001b[0;34m,\u001b[0m \u001b[0mlocal_steps\u001b[0m \u001b[0;34m=\u001b[0m \u001b[0;36m10\u001b[0m\u001b[0;34m)\u001b[0m\u001b[0;34m\u001b[0m\u001b[0m\n\u001b[0m",
        "\u001b[0;32m<ipython-input-320-a835315661b6>\u001b[0m in \u001b[0;36mpar_sgd\u001b[0;34m(x, y, w_init, n_workers, local_learning_rate, global_learning_rate, tol, maxiters, local_steps, newton, avg_weights, momentum, verbose)\u001b[0m\n\u001b[1;32m     71\u001b[0m           \u001b[0mdW\u001b[0m \u001b[0;34m=\u001b[0m \u001b[0mnp\u001b[0m\u001b[0;34m.\u001b[0m\u001b[0marray\u001b[0m\u001b[0;34m(\u001b[0m\u001b[0mdws\u001b[0m\u001b[0;34m)\u001b[0m\u001b[0;34m\u001b[0m\u001b[0m\n\u001b[1;32m     72\u001b[0m           \u001b[0mU\u001b[0m\u001b[0;34m,\u001b[0m \u001b[0mD\u001b[0m\u001b[0;34m,\u001b[0m \u001b[0mV\u001b[0m \u001b[0;34m=\u001b[0m \u001b[0mnp\u001b[0m\u001b[0;34m.\u001b[0m\u001b[0mlinalg\u001b[0m\u001b[0;34m.\u001b[0m\u001b[0msvd\u001b[0m\u001b[0;34m(\u001b[0m\u001b[0mdW\u001b[0m\u001b[0;34m.\u001b[0m\u001b[0mT\u001b[0m\u001b[0;34m,\u001b[0m \u001b[0mfull_matrices\u001b[0m\u001b[0;34m=\u001b[0m\u001b[0mFalse\u001b[0m\u001b[0;34m)\u001b[0m\u001b[0;34m\u001b[0m\u001b[0m\n\u001b[0;32m---> 73\u001b[0;31m           \u001b[0mUg\u001b[0m \u001b[0;34m=\u001b[0m \u001b[0mnp\u001b[0m\u001b[0;34m.\u001b[0m\u001b[0mdot\u001b[0m\u001b[0;34m(\u001b[0m\u001b[0mU\u001b[0m\u001b[0;34m.\u001b[0m\u001b[0mT\u001b[0m\u001b[0;34m,\u001b[0m \u001b[0mnp\u001b[0m\u001b[0;34m.\u001b[0m\u001b[0mdot\u001b[0m\u001b[0;34m(\u001b[0m\u001b[0mdG\u001b[0m\u001b[0;34m.\u001b[0m\u001b[0mT\u001b[0m\u001b[0;34m,\u001b[0m \u001b[0mg\u001b[0m\u001b[0;34m)\u001b[0m\u001b[0;34m)\u001b[0m\u001b[0;34m\u001b[0m\u001b[0m\n\u001b[0m\u001b[1;32m     74\u001b[0m           \u001b[0mDinvUg\u001b[0m \u001b[0;34m=\u001b[0m \u001b[0mnp\u001b[0m\u001b[0;34m.\u001b[0m\u001b[0mdot\u001b[0m\u001b[0;34m(\u001b[0m\u001b[0mnp\u001b[0m\u001b[0;34m.\u001b[0m\u001b[0mdiag\u001b[0m\u001b[0;34m(\u001b[0m\u001b[0;36m1.0\u001b[0m \u001b[0;34m/\u001b[0m \u001b[0mD\u001b[0m\u001b[0;34m)\u001b[0m\u001b[0;34m,\u001b[0m \u001b[0mUg\u001b[0m\u001b[0;34m)\u001b[0m\u001b[0;34m\u001b[0m\u001b[0m\n\u001b[1;32m     75\u001b[0m           \u001b[0msearch_dir\u001b[0m \u001b[0;34m=\u001b[0m \u001b[0mVDinvUg\u001b[0m \u001b[0;34m=\u001b[0m \u001b[0mnp\u001b[0m\u001b[0;34m.\u001b[0m\u001b[0mdot\u001b[0m\u001b[0;34m(\u001b[0m\u001b[0mV\u001b[0m\u001b[0;34m.\u001b[0m\u001b[0mT\u001b[0m\u001b[0;34m,\u001b[0m \u001b[0mDinvUg\u001b[0m\u001b[0;34m)\u001b[0m\u001b[0;34m\u001b[0m\u001b[0m\n",
        "\u001b[0;31mValueError\u001b[0m: matrices are not aligned"
       ]
      }
     ],
     "prompt_number": 321
    },
    {
     "cell_type": "code",
     "collapsed": false,
     "input": [
      "np.dot?"
     ],
     "language": "python",
     "metadata": {},
     "outputs": [],
     "prompt_number": 233
    },
    {
     "cell_type": "code",
     "collapsed": false,
     "input": [],
     "language": "python",
     "metadata": {},
     "outputs": []
    }
   ],
   "metadata": {}
  }
 ]
}