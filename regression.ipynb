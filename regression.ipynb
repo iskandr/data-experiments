{
 "metadata": {
  "name": "regression"
 },
 "nbformat": 3,
 "nbformat_minor": 0,
 "worksheets": [
  {
   "cells": [
    {
     "cell_type": "code",
     "collapsed": false,
     "input": [
      "import numpy as np"
     ],
     "language": "python",
     "metadata": {},
     "outputs": [],
     "prompt_number": 1
    },
    {
     "cell_type": "code",
     "collapsed": false,
     "input": [
      "def fprop(x,w):\n",
      "    return np.tanh(linear_fprop(x,w))\n",
      "\n",
      "def linear_fprop(x,w):\n",
      "    return np.dot(x,w)\n",
      "\n",
      "def gradient(x,y,w):\n",
      "    out = fprop(x,w)\n",
      "    if len(x.shape) == 1:\n",
      "      g = (1 - out**2) * x * (out - y)\n",
      "    else:\n",
      "      g = np.zeros_like(x[0])\n",
      "      for i, xi in enumerate(x):\n",
      "        g += (1 - out[i]**2) * xi * (out[i] - y[i])\n",
      "      g /= x.shape[0]\n",
      "    return g \n",
      "    \n",
      "\n",
      "def linear_gradient(x,y,w):\n",
      "    if len(x.shape) == 1:\n",
      "      return x * (linear_fprop(x,w) - y)\n",
      "    else:\n",
      "      g = np.zeros_like(x[0])\n",
      "      for i, xi in enumerate(x):\n",
      "        g += xi * (linear_fprop(xi, w) - y[i])\n",
      "      return g / x.shape[0]\n"
     ],
     "language": "python",
     "metadata": {},
     "outputs": [],
     "prompt_number": 2
    },
    {
     "cell_type": "code",
     "collapsed": false,
     "input": [
      "nsamples = 10**5\n",
      "ndims = 100\n",
      "w_actual = np.random.randn(ndims)\n",
      "x = np.random.randn(nsamples, ndims)\n",
      "y = fprop(x,w_actual)"
     ],
     "language": "python",
     "metadata": {},
     "outputs": [],
     "prompt_number": 173
    },
    {
     "cell_type": "code",
     "collapsed": false,
     "input": [
      "w_init = np.random.randn(ndims)\n"
     ],
     "language": "python",
     "metadata": {},
     "outputs": [],
     "prompt_number": 174
    },
    {
     "cell_type": "code",
     "collapsed": false,
     "input": [
      "def sgd(x, y, w_init, learning_rate = .01, tol = 10.0 ** -4, maxiters = 5 * 10**4, show_plot = True, verbose = True):\n",
      "    curr_err = np.inf \n",
      "    i = 0\n",
      "    norms = []\n",
      "    errs = []\n",
      "    w = w_init.copy() \n",
      "    n_samples = len(x)\n",
      "    while curr_err > tol and i < maxiters:\n",
      "        i += 1\n",
      "        sample_id = i % n_samples\n",
      "        g = gradient(x[sample_id, :],y[sample_id],w)\n",
      "        norm = np.linalg.norm(g)\n",
      "        norms.append(norm)\n",
      "        w -= learning_rate * g\n",
      "        err = np.abs(fprop(x[sample_id, :], w) - y[sample_id])\n",
      "      \n",
      "        errs.append(err)\n",
      "        if verbose and (i % 1000 == 0):\n",
      "          curr_err = np.mean(np.abs(fprop(x,w) - y))\n",
      "          print \"Iter %d, training error for SGD %0.4f\" % (i, curr_err)\n",
      "    if show_plot:\n",
      "      plot(norms)\n",
      "      ylabel(\"norm\")\n",
      "      figure()\n",
      "      plot(errs)\n",
      "      ylabel(\"per-sample error\")\n",
      "    if verbose:\n",
      "      print \"Training error for SGD\", np.mean(np.abs(fprop(x, w) - y))\n",
      "    return i, w"
     ],
     "language": "python",
     "metadata": {},
     "outputs": [],
     "prompt_number": 175
    },
    {
     "cell_type": "code",
     "collapsed": false,
     "input": [
      "_ = sgd(x,y,w_init, show_plot = True)"
     ],
     "language": "python",
     "metadata": {},
     "outputs": [
      {
       "output_type": "stream",
       "stream": "stdout",
       "text": [
        "Iter 1000, training error for SGD 0.9076\n",
        "Iter 2000, training error for SGD 0.8660"
       ]
      },
      {
       "output_type": "stream",
       "stream": "stdout",
       "text": [
        "\n",
        "Iter 3000, training error for SGD 0.8323"
       ]
      },
      {
       "output_type": "stream",
       "stream": "stdout",
       "text": [
        "\n",
        "Iter 4000, training error for SGD 0.8007"
       ]
      },
      {
       "output_type": "stream",
       "stream": "stdout",
       "text": [
        "\n",
        "Iter 5000, training error for SGD 0.7624"
       ]
      },
      {
       "output_type": "stream",
       "stream": "stdout",
       "text": [
        "\n",
        "Iter 6000, training error for SGD 0.7144"
       ]
      },
      {
       "output_type": "stream",
       "stream": "stdout",
       "text": [
        "\n",
        "Iter 7000, training error for SGD 0.6774"
       ]
      },
      {
       "output_type": "stream",
       "stream": "stdout",
       "text": [
        "\n",
        "Iter 8000, training error for SGD 0.6401"
       ]
      },
      {
       "output_type": "stream",
       "stream": "stdout",
       "text": [
        "\n",
        "Iter 9000, training error for SGD 0.6007"
       ]
      },
      {
       "output_type": "stream",
       "stream": "stdout",
       "text": [
        "\n",
        "Iter 10000, training error for SGD 0.5495"
       ]
      },
      {
       "output_type": "stream",
       "stream": "stdout",
       "text": [
        "\n",
        "Iter 11000, training error for SGD 0.5084"
       ]
      },
      {
       "output_type": "stream",
       "stream": "stdout",
       "text": [
        "\n",
        "Iter 12000, training error for SGD 0.4722"
       ]
      },
      {
       "output_type": "stream",
       "stream": "stdout",
       "text": [
        "\n",
        "Iter 13000, training error for SGD 0.4372"
       ]
      },
      {
       "output_type": "stream",
       "stream": "stdout",
       "text": [
        "\n",
        "Iter 14000, training error for SGD 0.4035"
       ]
      },
      {
       "output_type": "stream",
       "stream": "stdout",
       "text": [
        "\n",
        "Iter 15000, training error for SGD 0.3677"
       ]
      },
      {
       "output_type": "stream",
       "stream": "stdout",
       "text": [
        "\n",
        "Iter 16000, training error for SGD 0.3266"
       ]
      },
      {
       "output_type": "stream",
       "stream": "stdout",
       "text": [
        "\n",
        "Iter 17000, training error for SGD 0.2900"
       ]
      },
      {
       "output_type": "stream",
       "stream": "stdout",
       "text": [
        "\n",
        "Iter 18000, training error for SGD 0.2515"
       ]
      },
      {
       "output_type": "stream",
       "stream": "stdout",
       "text": [
        "\n",
        "Iter 19000, training error for SGD 0.2121"
       ]
      },
      {
       "output_type": "stream",
       "stream": "stdout",
       "text": [
        "\n",
        "Iter 20000, training error for SGD 0.1792"
       ]
      },
      {
       "output_type": "stream",
       "stream": "stdout",
       "text": [
        "\n",
        "Iter 21000, training error for SGD 0.1479"
       ]
      },
      {
       "output_type": "stream",
       "stream": "stdout",
       "text": [
        "\n",
        "Iter 22000, training error for SGD 0.1216"
       ]
      },
      {
       "output_type": "stream",
       "stream": "stdout",
       "text": [
        "\n",
        "Iter 23000, training error for SGD 0.0903"
       ]
      },
      {
       "output_type": "stream",
       "stream": "stdout",
       "text": [
        "\n",
        "Iter 24000, training error for SGD 0.0709"
       ]
      },
      {
       "output_type": "stream",
       "stream": "stdout",
       "text": [
        "\n",
        "Iter 25000, training error for SGD 0.0483"
       ]
      },
      {
       "output_type": "stream",
       "stream": "stdout",
       "text": [
        "\n",
        "Iter 26000, training error for SGD 0.0324"
       ]
      },
      {
       "output_type": "stream",
       "stream": "stdout",
       "text": [
        "\n",
        "Iter 27000, training error for SGD 0.0252"
       ]
      },
      {
       "output_type": "stream",
       "stream": "stdout",
       "text": [
        "\n",
        "Iter 28000, training error for SGD 0.0185"
       ]
      },
      {
       "output_type": "stream",
       "stream": "stdout",
       "text": [
        "\n",
        "Iter 29000, training error for SGD 0.0133"
       ]
      },
      {
       "output_type": "stream",
       "stream": "stdout",
       "text": [
        "\n",
        "Iter 30000, training error for SGD 0.0102"
       ]
      },
      {
       "output_type": "stream",
       "stream": "stdout",
       "text": [
        "\n",
        "Iter 31000, training error for SGD 0.0080"
       ]
      },
      {
       "output_type": "stream",
       "stream": "stdout",
       "text": [
        "\n",
        "Iter 32000, training error for SGD 0.0061"
       ]
      },
      {
       "output_type": "stream",
       "stream": "stdout",
       "text": [
        "\n",
        "Iter 33000, training error for SGD 0.0051"
       ]
      },
      {
       "output_type": "stream",
       "stream": "stdout",
       "text": [
        "\n",
        "Iter 34000, training error for SGD 0.0043"
       ]
      },
      {
       "output_type": "stream",
       "stream": "stdout",
       "text": [
        "\n",
        "Iter 35000, training error for SGD 0.0038"
       ]
      },
      {
       "output_type": "stream",
       "stream": "stdout",
       "text": [
        "\n",
        "Iter 36000, training error for SGD 0.0036"
       ]
      },
      {
       "output_type": "stream",
       "stream": "stdout",
       "text": [
        "\n",
        "Iter 37000, training error for SGD 0.0035"
       ]
      },
      {
       "output_type": "stream",
       "stream": "stdout",
       "text": [
        "\n",
        "Iter 38000, training error for SGD 0.0035"
       ]
      },
      {
       "output_type": "stream",
       "stream": "stdout",
       "text": [
        "\n",
        "Iter 39000, training error for SGD 0.0034"
       ]
      },
      {
       "output_type": "stream",
       "stream": "stdout",
       "text": [
        "\n",
        "Iter 40000, training error for SGD 0.0034"
       ]
      },
      {
       "output_type": "stream",
       "stream": "stdout",
       "text": [
        "\n",
        "Iter 41000, training error for SGD 0.0034"
       ]
      },
      {
       "output_type": "stream",
       "stream": "stdout",
       "text": [
        "\n",
        "Iter 42000, training error for SGD 0.0034"
       ]
      },
      {
       "output_type": "stream",
       "stream": "stdout",
       "text": [
        "\n",
        "Iter 43000, training error for SGD 0.0034"
       ]
      },
      {
       "output_type": "stream",
       "stream": "stdout",
       "text": [
        "\n",
        "Iter 44000, training error for SGD 0.0034"
       ]
      },
      {
       "output_type": "stream",
       "stream": "stdout",
       "text": [
        "\n",
        "Iter 45000, training error for SGD 0.0033"
       ]
      },
      {
       "output_type": "stream",
       "stream": "stdout",
       "text": [
        "\n",
        "Iter 46000, training error for SGD 0.0033"
       ]
      },
      {
       "output_type": "stream",
       "stream": "stdout",
       "text": [
        "\n",
        "Iter 47000, training error for SGD 0.0033"
       ]
      },
      {
       "output_type": "stream",
       "stream": "stdout",
       "text": [
        "\n",
        "Iter 48000, training error for SGD 0.0033"
       ]
      },
      {
       "output_type": "stream",
       "stream": "stdout",
       "text": [
        "\n",
        "Iter 49000, training error for SGD 0.0033"
       ]
      },
      {
       "output_type": "stream",
       "stream": "stdout",
       "text": [
        "\n",
        "Iter 50000, training error for SGD 0.0033"
       ]
      },
      {
       "output_type": "stream",
       "stream": "stdout",
       "text": [
        "\n",
        "Training error for SGD"
       ]
      },
      {
       "output_type": "stream",
       "stream": "stdout",
       "text": [
        " 0.00332033057635\n"
       ]
      },
      {
       "output_type": "display_data",
       "png": "[encoded data removed]"
      },
      {
       "output_type": "display_data",
       "png": "[encoded data removed]"
      }
     ],
     "prompt_number": 176
    },
    {
     "cell_type": "code",
     "collapsed": false,
     "input": [
      "def par_sgd(x, y, w_init, n_workers, \n",
      "           local_learning_rate = 0.01, \n",
      "           global_learning_rate = 1, \n",
      "           tol = 10.0 ** -4, \n",
      "           maxiters = 100, \n",
      "           local_steps = 10,\n",
      "           jitter_learning_rates = False, \n",
      "           same_local_data = False,           \n",
      "           newton = True, \n",
      "           avg_weights = False, \n",
      "           momentum = True, \n",
      "           verbose = True):\n",
      "    w_global = w_init \n",
      "    curr_err = np.inf\n",
      "    norms = []\n",
      "    i = 0\n",
      "    n_samples = len(x)\n",
      "  \n",
      "    while (curr_err > tol) and (i < maxiters):\n",
      "        i += 1\n",
      "        dws = []\n",
      "        dgs = []\n",
      "        local_weights = []\n",
      "        local_xs = []\n",
      "        local_ys = []\n",
      "        if same_local_data:\n",
      "            local_idx = np.random.randint(0, n_samples, local_steps)\n",
      "            local_x = x[local_idx, :]\n",
      "            local_y = y[local_idx]\n",
      "            \n",
      "        for worker_num in xrange(n_workers):\n",
      "            if not same_local_data:\n",
      "              local_idx = np.random.randint(0, n_samples, local_steps)\n",
      "              local_x = x[local_idx, :]\n",
      "              local_y = y[local_idx]\n",
      "            local_xs.append(local_x)\n",
      "            local_ys.append(local_y)\n",
      "            w = w_global.copy()\n",
      "            g_start = gradient(local_x, local_y, w)\n",
      "            if jitter_learning_rates:\n",
      "                eta = local_learning_rate + np.random.randn() * (local_learning_rate/10)\n",
      "                #print \"Worker %d, learning rate %0.6f\" % (worker_num, eta)\n",
      "            else:\n",
      "                eta = local_learning_rate\n",
      "            for sample_id in xrange(local_steps):\n",
      "                xi = local_x[sample_id, :]\n",
      "                yi = local_y[sample_id]\n",
      "                g = gradient(xi, yi, w)\n",
      "                w -= eta * g\n",
      "            dg = gradient(local_x, local_y, w) - g_start \n",
      "            dw = w - w_global\n",
      "            dws.append(dw)\n",
      "            dgs.append(dg)\n",
      "            local_weights.append(w)\n",
      "        \n",
      "    \n",
      "        if avg_weights:\n",
      "          w_combined = np.mean(np.array(local_weights), axis = 0)\n",
      "          # w_combined = local_weights[0]\n",
      "        else:\n",
      "          best_err = np.inf \n",
      "          best_weight = None\n",
      "          val_idx = np.random.randint(0, n_samples, 10*local_steps)\n",
      "          val_x = x[val_idx]\n",
      "          val_y = y[val_idx]\n",
      "          for local_weight in local_weights:\n",
      "            local_err = np.mean(np.abs(fprop(val_x, local_weight) - val_y))\n",
      "            if local_err < best_err:\n",
      "                best_err = local_err\n",
      "                best_weight = local_weight\n",
      "          w_combined = best_weight\n",
      "        \n",
      "        local_gradients = []\n",
      "        for worker_num in xrange(n_workers):\n",
      "            val_idx = np.random.randint(0, n_samples, 100)\n",
      "            local_x = x[val_idx]\n",
      "            local_y = y[val_idx]\n",
      "            local_gradients.append(gradient(local_x, local_y, w_combined))\n",
      "        g = np.mean(np.array(local_gradients), axis=0)\n",
      "        if newton:\n",
      "          G = np.array(dgs)\n",
      "          W = np.array(dws)\n",
      "          \n",
      "          U, D, Vt = np.linalg.svd(G.T, full_matrices=False)\n",
      "          Ug = np.dot(U.T, g)\n",
      "          DinvUg = np.dot(np.diag(1.0 / D), Ug)\n",
      "          VDinvUg = np.dot(Vt.T, DinvUg)  \n",
      "          search_dir = -np.dot(W.T, VDinvUg)\n",
      "        \n",
      "        else:\n",
      "          search_dir = -g\n",
      "\n",
      "        norms.append(np.linalg.norm(search_dir))\n",
      "        \n",
      "        if global_learning_rate == 'search':\n",
      "            etas = 10.0 ** np.array([3, 2.5 , 2, 1.5, 1, 0.5, 0, -0.5, -1, -1.5, -2, -3, -4])\n",
      "            best_err = np.inf \n",
      "            best_weights = None\n",
      "            val_idx = np.random.randint(0, n_samples, 2000)\n",
      "            val_x = x[val_idx]\n",
      "            val_y = y[val_idx]\n",
      "            best_eta = None\n",
      "            for eta in etas:\n",
      "                candidate = w_combined + eta * search_dir\n",
      "                err = np.mean(np.abs(fprop(val_x, candidate) - val_y))\n",
      "                \n",
      "                if err < best_err:\n",
      "                    best_eta = eta\n",
      "                    best_err = err\n",
      "                    best_weight = candidate\n",
      "            # print \" -- chose eta = %s\" % best_eta \n",
      "            w_global = best_weight\n",
      "        elif global_learning_rate == 'match':\n",
      "          w_global = w_combined - 0.05 * (np.linalg.norm(g) / np.linalg.norm(search_dir)) * search_dir\n",
      "        else:\n",
      "          w_global = w_combined + global_learning_rate * search_dir\n",
      "        \n",
      "        if verbose:\n",
      "          curr_err = np.mean(np.abs(fprop(x, w_global) - y))\n",
      "          print \"Iter %d, grad_norm %0.4f, search_dir norm %0.4f, training error for SGD %0.4f\" % \\\n",
      "            (i, np.linalg.norm(g), np.linalg.norm(search_dir), curr_err)\n",
      "  \n",
      "    print \"Finished after %d iters\" % i \n",
      "    return i, w_global\n",
      "        \n",
      "         "
     ],
     "language": "python",
     "metadata": {},
     "outputs": [],
     "prompt_number": 177
    },
    {
     "cell_type": "code",
     "collapsed": false,
     "input": [
      "_ = par_sgd(x, y, w_init, 1, global_learning_rate = 'search', maxiters=20, newton=False, avg_weights = True, same_local_data = False, jitter_learning_rates = True, local_steps = 32)"
     ],
     "language": "python",
     "metadata": {},
     "outputs": [
      {
       "output_type": "stream",
       "stream": "stdout",
       "text": [
        " -- chose eta = 100.0\n",
        "Iter 1, grad_norm 0.2077, search_dir norm 0.2077, training error for SGD 0.8153\n",
        " -- chose eta = 100.0\n",
        "Iter 2, grad_norm 0.1944, search_dir norm 0.1944, training error for SGD 0.7382\n",
        " -- chose eta = 100.0"
       ]
      },
      {
       "output_type": "stream",
       "stream": "stdout",
       "text": [
        "\n",
        "Iter 3, grad_norm 0.1760, search_dir norm 0.1760, training error for SGD 0.7384\n",
        " -- chose eta = 316.227766017\n",
        "Iter 4, grad_norm 0.0336, search_dir norm 0.0336, training error for SGD 0.7163\n",
        " -- chose eta = 316.227766017"
       ]
      },
      {
       "output_type": "stream",
       "stream": "stdout",
       "text": [
        "\n",
        "Iter 5, grad_norm 0.0226, search_dir norm 0.0226, training error for SGD 0.7045\n",
        " -- chose eta = 100.0\n",
        "Iter 6, grad_norm 0.0500, search_dir norm 0.0500, training error for SGD 0.6946\n",
        " -- chose eta = 10.0"
       ]
      },
      {
       "output_type": "stream",
       "stream": "stdout",
       "text": [
        "\n",
        "Iter 7, grad_norm 0.1699, search_dir norm 0.1699, training error for SGD 0.6908\n",
        " -- chose eta = 100.0\n",
        "Iter 8, grad_norm 0.1558, search_dir norm 0.1558, training error for SGD 0.6748\n",
        " -- chose eta = 100.0"
       ]
      },
      {
       "output_type": "stream",
       "stream": "stdout",
       "text": [
        "\n",
        "Iter 9, grad_norm 0.1176, search_dir norm 0.1176, training error for SGD 0.6695\n",
        " -- chose eta = 100.0\n",
        "Iter 10, grad_norm 0.0596, search_dir norm 0.0596, training error for SGD 0.6585\n",
        " -- chose eta = 100.0"
       ]
      },
      {
       "output_type": "stream",
       "stream": "stdout",
       "text": [
        "\n",
        "Iter 11, grad_norm 0.0323, search_dir norm 0.0323, training error for SGD 0.6556\n",
        " -- chose eta = 0.0001\n",
        "Iter 12, grad_norm 0.1133, search_dir norm 0.1133, training error for SGD 0.6556\n",
        " -- chose eta = 100.0"
       ]
      },
      {
       "output_type": "stream",
       "stream": "stdout",
       "text": [
        "\n",
        "Iter 13, grad_norm 0.1859, search_dir norm 0.1859, training error for SGD 0.6234\n",
        " -- chose eta = 100.0\n",
        "Iter 14, grad_norm 0.1047, search_dir norm 0.1047, training error for SGD 0.6202\n",
        " -- chose eta = 316.227766017"
       ]
      },
      {
       "output_type": "stream",
       "stream": "stdout",
       "text": [
        "\n",
        "Iter 15, grad_norm 0.0390, search_dir norm 0.0390, training error for SGD 0.6199\n",
        " -- chose eta = 100.0\n",
        "Iter 16, grad_norm 0.0496, search_dir norm 0.0496, training error for SGD 0.6142\n",
        " -- chose eta = 316.227766017"
       ]
      },
      {
       "output_type": "stream",
       "stream": "stdout",
       "text": [
        "\n",
        "Iter 17, grad_norm 0.0306, search_dir norm 0.0306, training error for SGD 0.6013\n",
        " -- chose eta = 100.0\n",
        "Iter 18, grad_norm 0.1049, search_dir norm 0.1049, training error for SGD 0.5975\n",
        " -- chose eta = 316.227766017"
       ]
      },
      {
       "output_type": "stream",
       "stream": "stdout",
       "text": [
        "\n",
        "Iter 19, grad_norm 0.0382, search_dir norm 0.0382, training error for SGD 0.5876\n",
        " -- chose eta = 100.0\n",
        "Iter 20, grad_norm 0.0843, search_dir norm 0.0843, training error for SGD 0.5810\n",
        "Finished after 20 iters\n"
       ]
      }
     ],
     "prompt_number": 179
    },
    {
     "cell_type": "code",
     "collapsed": false,
     "input": [
      "np.dot?"
     ],
     "language": "python",
     "metadata": {},
     "outputs": [],
     "prompt_number": 158
    },
    {
     "cell_type": "code",
     "collapsed": false,
     "input": [],
     "language": "python",
     "metadata": {},
     "outputs": []
    }
   ],
   "metadata": {}
  }
 ]
}