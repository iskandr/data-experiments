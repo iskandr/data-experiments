{
 "metadata": {
  "name": "regression"
 },
 "nbformat": 3,
 "nbformat_minor": 0,
 "worksheets": [
  {
   "cells": [
    {
     "cell_type": "code",
     "collapsed": false,
     "input": [
      "import numpy as np"
     ],
     "language": "python",
     "metadata": {},
     "outputs": [],
     "prompt_number": 212
    },
    {
     "cell_type": "code",
     "collapsed": false,
     "input": [
      "nsamples = 10**4\n",
      "ndims = 10\n",
      "w_actual = np.random.randn(ndims)\n",
      "x = np.random.randn(nsamples, ndims)\n",
      "y = np.dot(x, w_actual)\n"
     ],
     "language": "python",
     "metadata": {},
     "outputs": [],
     "prompt_number": 213
    },
    {
     "cell_type": "code",
     "collapsed": false,
     "input": [
      "def gradient(x,y,w):\n",
      "\n",
      "    if len(x.shape) == 1:\n",
      "      return x * (np.dot(x,w) - y)\n",
      "    else:\n",
      "      g = np.zeros_like(x[0])\n",
      "      for i, xi in enumerate(x):\n",
      "        g += xi * (np.dot(xi, w) - y[i])\n",
      "      return g / x.shape[0]"
     ],
     "language": "python",
     "metadata": {},
     "outputs": [],
     "prompt_number": 214
    },
    {
     "cell_type": "code",
     "collapsed": false,
     "input": [
      "w_init = np.random.randn(ndims)\n"
     ],
     "language": "python",
     "metadata": {},
     "outputs": [],
     "prompt_number": 215
    },
    {
     "cell_type": "code",
     "collapsed": false,
     "input": [
      "def sgd(x, y, w_init, learning_rate = 0.1, tol = 10.0 ** -6, maxiters = 10**6, show_plot = True, verbose = True):\n",
      "    curr_err = np.inf \n",
      "    i = 0\n",
      "    norms = []\n",
      "    errs = []\n",
      "    w = w_init.copy() \n",
      "    n_samples = len(x)\n",
      "    while curr_err > tol and i < maxiters:\n",
      "        i += 1\n",
      "        sample_id = i % n_samples\n",
      "        g = gradient(x[sample_id, :],y[sample_id],w)\n",
      "        norm = np.linalg.norm(g)\n",
      "        norms.append(norm)\n",
      "        w -= learning_rate * g\n",
      "        err = np.abs(np.dot(x[sample_id, :], w) - y[sample_id])\n",
      "        errs.append(err)\n",
      "        if verbose and (i % 100 == 0):\n",
      "          curr_err = np.mean(np.abs(np.dot(x, w) - y))\n",
      "          print \"Iter %d, training error for SGD %0.4f\" % (i, curr_err)\n",
      "    if show_plot:\n",
      "      plot(norms)\n",
      "      ylabel(\"norm\")\n",
      "      figure()\n",
      "      plot(errs)\n",
      "      ylabel(\"per-sample error\")\n",
      "    if verbose:\n",
      "      print \"Training error for SGD\", np.mean(np.abs(np.dot(x, w) - y))\n",
      "    return i, w"
     ],
     "language": "python",
     "metadata": {},
     "outputs": [],
     "prompt_number": 216
    },
    {
     "cell_type": "code",
     "collapsed": false,
     "input": [
      "_ = sgd(x,y,w_init)"
     ],
     "language": "python",
     "metadata": {},
     "outputs": [
      {
       "output_type": "stream",
       "stream": "stdout",
       "text": [
        "Iter 100, training error for SGD 0.0640\n",
        "Iter 200, training error for SGD 0.0013\n",
        "Iter 300, training error for SGD 0.0000\n",
        "Iter 400, training error for SGD 0.0000\n",
        "Training error for SGD"
       ]
      },
      {
       "output_type": "stream",
       "stream": "stdout",
       "text": [
        " 6.09223181076e-07\n"
       ]
      },
      {
       "output_type": "display_data",
       "png": "[encoded data removed]"
      },
      {
       "output_type": "display_data",
       "png": "[encoded data removed]"
      }
     ],
     "prompt_number": 217
    },
    {
     "cell_type": "code",
     "collapsed": false,
     "input": [
      "def par_sgd(x, y, w_init, n_workers, \n",
      "           local_learning_rate = 0.1, \n",
      "           global_learning_rate = 1.0, \n",
      "           tol = 10.0 ** -5, \n",
      "           maxiters = 100, \n",
      "           local_steps = 100,\n",
      "           newton = True, \n",
      "           avg_weights = False, \n",
      "           momentum = True, \n",
      "           verbose = True):\n",
      "    w_global = w_init \n",
      "    curr_err = np.inf\n",
      "    norms = []\n",
      "    i = 0\n",
      "    n_samples = len(x)\n",
      "  \n",
      "     \n",
      "    while (curr_err > tol) and (i < maxiters):\n",
      "        i += 1\n",
      "        dws = []\n",
      "        dgs = []\n",
      "        local_weights = []\n",
      "        local_xs = []\n",
      "        local_ys = []\n",
      "        for worker_num in xrange(n_workers):\n",
      "            local_idx = np.random.randint(0, n_samples, local_steps)\n",
      "      \n",
      "            local_x = x[local_idx, :]\n",
      "            local_y = y[local_idx]\n",
      "            local_xs.append(local_x)\n",
      "            local_ys.append(local_y)\n",
      "            w = w_global.copy()\n",
      "            g_start = gradient(local_x, local_y, w)\n",
      "            \n",
      "            for sample_id in xrange(local_steps):\n",
      "                xi = local_x[sample_id, :]\n",
      "                yi = local_y[sample_id]\n",
      "                g = gradient(xi, yi, w)\n",
      "                w -= local_learning_rate * g\n",
      "            dg = gradient(local_x, local_y, w) - g_start \n",
      "            dw = w - w_global\n",
      "            dws.append(dw)\n",
      "            dgs.append(dg)\n",
      "            local_weights.append(w)\n",
      "        \n",
      "    \n",
      "        if avg_weights:\n",
      "          w_combined = np.mean(np.array(local_weights), axis = 0)\n",
      "        else:\n",
      "          best_err = np.inf \n",
      "          best_weight = None\n",
      "          val_idx = np.random.randint(0, n_samples, 10*local_steps)\n",
      "          val_x = x[val_idx]\n",
      "          val_y = y[val_idx]\n",
      "          for local_weight in local_weights:\n",
      "            local_err = np.mean(np.abs(np.dot(val_x, local_weight) - val_y))\n",
      "            if local_err < best_err:\n",
      "                best_err = local_err\n",
      "                best_weight = local_weight\n",
      "          # w_avg = np.mean(np.array(local_weights), axis=0)\n",
      "          w_combined = best_weight\n",
      "        \n",
      "        local_gradients = []\n",
      "        for worker_num in xrange(n_workers):\n",
      "            local_x = local_xs[worker_num]\n",
      "            local_y = local_ys[worker_num]\n",
      "            local_gradients.append(gradient(local_x, local_y, w_combined))\n",
      "        g = np.mean(np.array(local_gradients), axis=0)\n",
      "        if newton:\n",
      "          dG = np.array(dgs)\n",
      "          dW = np.array(dws)\n",
      "          U, D, V = np.linalg.svd(dG.T, full_matrices=False)\n",
      "          Ug = np.dot(U.T, g)\n",
      "          DinvUg = np.dot(np.diag(1.0 / D), Ug)\n",
      "          VDinvUg = np.dot(V.T, DinvUg)  \n",
      "          search_dir = -np.dot(dW.T, VDinvUg)\n",
      "        else:\n",
      "          search_dir = -g\n",
      "        norms.append(np.linalg.norm(search_dir))\n",
      "        w_global = w_combined + global_learning_rate * search_dir\n",
      "        \n",
      "        if verbose:\n",
      "          curr_err = np.mean(np.abs(np.dot(x, w_global) - y))\n",
      "          print \"Iter %d, grad_norm %0.4f, search_dir norm %0.4f, training error for SGD %0.4f\" % \\\n",
      "            (i, np.linalg.norm(g), np.linalg.norm(search_dir), curr_err)\n",
      "  \n",
      "    print \"Finished after %d iters\" % i \n",
      "    return i, w_global\n",
      "        \n",
      "         "
     ],
     "language": "python",
     "metadata": {},
     "outputs": [],
     "prompt_number": 281
    },
    {
     "cell_type": "code",
     "collapsed": false,
     "input": [
      "par_sgd(x,y,w_init, 10, newton=True, avg_weights = True, local_steps = 2)"
     ],
     "language": "python",
     "metadata": {},
     "outputs": [
      {
       "output_type": "stream",
       "stream": "stdout",
       "text": [
        "Iter 1, grad_norm 3.1921, search_dir norm 0.8225, training error for SGD 1.9888\n",
        "Iter 2, grad_norm 2.0550, search_dir norm 0.3779, training error for SGD 1.3855\n",
        "Iter 3, grad_norm 1.3881, search_dir norm 0.2393, training error for SGD 1.0569\n",
        "Iter 4, grad_norm 0.8971, search_dir norm 0.2046, training error for SGD 0.7672\n",
        "Iter 5, grad_norm 0.9689, search_dir norm 0.1706, training error for SGD 0.4430\n",
        "Iter 6, grad_norm 0.5828, search_dir norm 0.0951, training error for SGD 0.2453\n",
        "Iter 7, grad_norm 0.1227, search_dir norm 0.0711, training error for SGD 0.1968\n",
        "Iter 8, grad_norm 0.1309, search_dir norm 0.0729, training error for SGD 0.1496\n",
        "Iter 9, grad_norm 0.1774, search_dir norm 0.0307, training error for SGD 0.0964\n",
        "Iter 10, grad_norm 0.1189, search_dir norm 0.0198, training error for SGD 0.0571\n",
        "Iter 11, grad_norm 0.0607, search_dir norm 0.0758, training error for SGD 0.0831\n",
        "Iter 12, grad_norm 0.0963, search_dir norm 0.0167, training error for SGD 0.0534\n",
        "Iter 13, grad_norm 0.0547, search_dir norm 0.0098, training error for SGD 0.0378\n",
        "Iter 14, grad_norm 0.0314, search_dir norm 0.0053, training error for SGD 0.0295\n",
        "Iter 15, grad_norm 0.0295, search_dir norm 0.0041, training error for SGD 0.0227\n",
        "Iter 16, grad_norm 0.0218, search_dir norm 0.0064, training error for SGD 0.0144\n",
        "Iter 17, grad_norm 0.0190, search_dir norm 0.0088, training error for SGD 0.0074\n",
        "Iter 18, grad_norm 0.0071, search_dir norm 0.0017, training error for SGD 0.0051\n",
        "Iter 19, grad_norm 0.0044, search_dir norm 0.0012, training error for SGD 0.0038\n",
        "Iter 20, grad_norm 0.0050, search_dir norm 0.0008, training error for SGD 0.0025\n",
        "Iter 21, grad_norm 0.0026, search_dir norm 0.0016, training error for SGD 0.0019\n",
        "Iter 22, grad_norm 0.0021, search_dir norm 0.0004, training error for SGD 0.0012\n",
        "Iter 23, grad_norm 0.0015, search_dir norm 0.0003, training error for SGD 0.0007\n",
        "Iter 24, grad_norm 0.0007, search_dir norm 0.0001, training error for SGD 0.0006\n",
        "Iter 25, grad_norm 0.0004, search_dir norm 0.0001, training error for SGD 0.0005\n",
        "Iter 26, grad_norm 0.0004, search_dir norm 0.0001, training error for SGD 0.0003\n",
        "Iter 27, grad_norm 0.0003, search_dir norm 0.0000, training error for SGD 0.0002\n",
        "Iter 28, grad_norm 0.0003, search_dir norm 0.0001, training error for SGD 0.0002\n",
        "Iter 29, grad_norm 0.0002, search_dir norm 0.0000, training error for SGD 0.0001\n",
        "Iter 30, grad_norm 0.0001, search_dir norm 0.0000, training error for SGD 0.0001\n",
        "Iter 31, grad_norm 0.0001, search_dir norm 0.0000, training error for SGD 0.0001"
       ]
      },
      {
       "output_type": "stream",
       "stream": "stdout",
       "text": [
        "\n",
        "Iter 32, grad_norm 0.0001, search_dir norm 0.0000, training error for SGD 0.0000\n",
        "Iter 33, grad_norm 0.0001, search_dir norm 0.0000, training error for SGD 0.0000\n",
        "Iter 34, grad_norm 0.0000, search_dir norm 0.0000, training error for SGD 0.0000\n",
        "Iter 35, grad_norm 0.0000, search_dir norm 0.0000, training error for SGD 0.0000\n",
        "Finished after 35 iters\n"
       ]
      },
      {
       "output_type": "pyout",
       "prompt_number": 284,
       "text": [
        "(35,\n",
        " array([ 0.51340452, -0.54505099, -0.80000577, -0.56828443,  0.50234175,\n",
        "       -0.75199381,  0.96441595, -1.38230956,  1.28149372,  0.47758803]))"
       ]
      }
     ],
     "prompt_number": 284
    },
    {
     "cell_type": "code",
     "collapsed": false,
     "input": [
      "np.dot?"
     ],
     "language": "python",
     "metadata": {},
     "outputs": [],
     "prompt_number": 233
    },
    {
     "cell_type": "code",
     "collapsed": false,
     "input": [],
     "language": "python",
     "metadata": {},
     "outputs": []
    }
   ],
   "metadata": {}
  }
 ]
}