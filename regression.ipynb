{
 "metadata": {
  "name": "regression"
 },
 "nbformat": 3,
 "nbformat_minor": 0,
 "worksheets": [
  {
   "cells": [
    {
     "cell_type": "code",
     "collapsed": false,
     "input": [
      "import numpy as np"
     ],
     "language": "python",
     "metadata": {},
     "outputs": [],
     "prompt_number": 1
    },
    {
     "cell_type": "code",
     "collapsed": false,
     "input": [
      "nsamples = 10**5\n",
      "ndims = 1000\n",
      "w_actual = np.random.randn(ndims)\n",
      "x = np.random.randn(nsamples, ndims)\n",
      "y = np.dot(x, w_actual)\n"
     ],
     "language": "python",
     "metadata": {},
     "outputs": [],
     "prompt_number": 47
    },
    {
     "cell_type": "code",
     "collapsed": false,
     "input": [
      "def gradient(x,y,w):\n",
      "\n",
      "    if len(x.shape) == 1:\n",
      "      return x * (np.dot(x,w) - y)\n",
      "    else:\n",
      "      g = np.zeros_like(x[0])\n",
      "      for i, xi in enumerate(x):\n",
      "        g += xi * (np.dot(xi, w) - y[i])\n",
      "      return g / x.shape[0]"
     ],
     "language": "python",
     "metadata": {},
     "outputs": [],
     "prompt_number": 71
    },
    {
     "cell_type": "code",
     "collapsed": false,
     "input": [
      "w_init = np.random.randn(ndims)\n"
     ],
     "language": "python",
     "metadata": {},
     "outputs": [],
     "prompt_number": 98
    },
    {
     "cell_type": "code",
     "collapsed": false,
     "input": [
      "def sgd(x, y, w_init, learning_rate = 0.001, tol = 10.0 ** -7, maxiters = 10**5, plot = True, verbose = True):\n",
      "    curr_err = np.inf \n",
      "    i = 0\n",
      "    norms = []\n",
      "    errs = []\n",
      "    w = w_init \n",
      "    n_samples = len(x)\n",
      "    while curr_err > tol and i < maxiters:\n",
      "        i += 1\n",
      "        sample_id = i % n_samples\n",
      "        g = gradient(x[sample_id, :],y[sample_id],w)\n",
      "        norm = np.linalg.norm(g)\n",
      "        norms.append(norm)\n",
      "        w -= learning_rate * g\n",
      "        err = np.abs(np.dot(x[sample_id, :], w) - y[sample_id])\n",
      "        errs.append(err)\n",
      "        if verbose and (i % 1000 == 0):\n",
      "          curr_err = np.mean(np.abs(np.dot(x, w) - y))\n",
      "          print \"Iter %d, training error for SGD %0.4f\" % (i, curr_err)\n",
      "    if plot:\n",
      "      plot(norms)\n",
      "      ylabel(\"norm\")\n",
      "      figure()\n",
      "      plot(errs)\n",
      "      ylabel(\"per-sample error\")\n",
      "    if verbose:\n",
      "      print \"Training error for SGD\", np.mean(np.abs(np.dot(x, w) - y))\n",
      "    return i, w"
     ],
     "language": "python",
     "metadata": {},
     "outputs": [],
     "prompt_number": 99
    },
    {
     "cell_type": "code",
     "collapsed": false,
     "input": [
      "sgd(x,y,w_init)"
     ],
     "language": "python",
     "metadata": {},
     "outputs": [
      {
       "output_type": "stream",
       "stream": "stdout",
       "text": [
        "Iter 1000, training error for SGD 22.8816\n",
        "Iter 2000, training error for SGD 14.2758"
       ]
      },
      {
       "output_type": "stream",
       "stream": "stdout",
       "text": [
        "\n",
        "Iter 3000, training error for SGD 8.5222"
       ]
      },
      {
       "output_type": "stream",
       "stream": "stdout",
       "text": [
        "\n",
        "Iter 4000, training error for SGD 5.1075"
       ]
      },
      {
       "output_type": "stream",
       "stream": "stdout",
       "text": [
        "\n",
        "Iter 5000, training error for SGD 3.1976"
       ]
      },
      {
       "output_type": "stream",
       "stream": "stdout",
       "text": [
        "\n",
        "Iter 6000, training error for SGD 2.0738"
       ]
      },
      {
       "output_type": "stream",
       "stream": "stdout",
       "text": [
        "\n",
        "Iter 7000, training error for SGD 1.2434"
       ]
      },
      {
       "output_type": "stream",
       "stream": "stdout",
       "text": [
        "\n",
        "Iter 8000, training error for SGD 0.7221"
       ]
      },
      {
       "output_type": "stream",
       "stream": "stdout",
       "text": [
        "\n",
        "Iter 9000, training error for SGD 0.4365"
       ]
      },
      {
       "output_type": "stream",
       "stream": "stdout",
       "text": [
        "\n",
        "Iter 10000, training error for SGD 0.2645"
       ]
      },
      {
       "output_type": "stream",
       "stream": "stdout",
       "text": [
        "\n",
        "Iter 11000, training error for SGD 0.1635"
       ]
      },
      {
       "output_type": "stream",
       "stream": "stdout",
       "text": [
        "\n",
        "Iter 12000, training error for SGD 0.0976"
       ]
      },
      {
       "output_type": "stream",
       "stream": "stdout",
       "text": [
        "\n",
        "Iter 13000, training error for SGD 0.0607"
       ]
      },
      {
       "output_type": "stream",
       "stream": "stdout",
       "text": [
        "\n",
        "Iter 14000, training error for SGD 0.0363"
       ]
      },
      {
       "output_type": "stream",
       "stream": "stdout",
       "text": [
        "\n",
        "Iter 15000, training error for SGD 0.0214"
       ]
      },
      {
       "output_type": "stream",
       "stream": "stdout",
       "text": [
        "\n",
        "Iter 16000, training error for SGD 0.0131"
       ]
      },
      {
       "output_type": "stream",
       "stream": "stdout",
       "text": [
        "\n",
        "Iter 17000, training error for SGD 0.0082"
       ]
      },
      {
       "output_type": "stream",
       "stream": "stdout",
       "text": [
        "\n",
        "Iter 18000, training error for SGD 0.0052"
       ]
      },
      {
       "output_type": "stream",
       "stream": "stdout",
       "text": [
        "\n",
        "Iter 19000, training error for SGD 0.0031"
       ]
      },
      {
       "output_type": "stream",
       "stream": "stdout",
       "text": [
        "\n",
        "Iter 20000, training error for SGD 0.0018"
       ]
      },
      {
       "output_type": "stream",
       "stream": "stdout",
       "text": [
        "\n",
        "Iter 21000, training error for SGD 0.0011"
       ]
      },
      {
       "output_type": "stream",
       "stream": "stdout",
       "text": [
        "\n",
        "Iter 22000, training error for SGD 0.0006"
       ]
      },
      {
       "output_type": "stream",
       "stream": "stdout",
       "text": [
        "\n",
        "Iter 23000, training error for SGD 0.0004"
       ]
      },
      {
       "output_type": "stream",
       "stream": "stdout",
       "text": [
        "\n",
        "Iter 24000, training error for SGD 0.0002"
       ]
      },
      {
       "output_type": "stream",
       "stream": "stdout",
       "text": [
        "\n",
        "Iter 25000, training error for SGD 0.0002"
       ]
      },
      {
       "output_type": "stream",
       "stream": "stdout",
       "text": [
        "\n",
        "Iter 26000, training error for SGD 0.0001"
       ]
      },
      {
       "output_type": "stream",
       "stream": "stdout",
       "text": [
        "\n",
        "Iter 27000, training error for SGD 0.0001"
       ]
      },
      {
       "output_type": "stream",
       "stream": "stdout",
       "text": [
        "\n",
        "Iter 28000, training error for SGD 0.0000"
       ]
      },
      {
       "output_type": "stream",
       "stream": "stdout",
       "text": [
        "\n",
        "Iter 29000, training error for SGD 0.0000"
       ]
      },
      {
       "output_type": "stream",
       "stream": "stdout",
       "text": [
        "\n",
        "Iter 30000, training error for SGD 0.0000"
       ]
      },
      {
       "output_type": "stream",
       "stream": "stdout",
       "text": [
        "\n",
        "Iter 31000, training error for SGD 0.0000"
       ]
      },
      {
       "output_type": "stream",
       "stream": "stdout",
       "text": [
        "\n",
        "Iter 32000, training error for SGD 0.0000"
       ]
      },
      {
       "output_type": "stream",
       "stream": "stdout",
       "text": [
        "\n",
        "Iter 33000, training error for SGD 0.0000"
       ]
      },
      {
       "output_type": "stream",
       "stream": "stdout",
       "text": [
        "\n",
        "Iter 34000, training error for SGD 0.0000"
       ]
      },
      {
       "output_type": "stream",
       "stream": "stdout",
       "text": [
        "\n",
        "Iter 35000, training error for SGD 0.0000"
       ]
      },
      {
       "output_type": "stream",
       "stream": "stdout",
       "text": [
        "\n",
        "Iter 36000, training error for SGD 0.0000"
       ]
      },
      {
       "output_type": "stream",
       "stream": "stdout",
       "text": [
        "\n",
        "Iter 37000, training error for SGD 0.0000"
       ]
      },
      {
       "output_type": "stream",
       "stream": "stdout",
       "text": [
        "\n",
        "Iter 38000, training error for SGD 0.0000"
       ]
      },
      {
       "output_type": "stream",
       "stream": "stdout",
       "text": [
        "\n",
        "Iter 39000, training error for SGD 0.0000"
       ]
      },
      {
       "output_type": "stream",
       "stream": "stdout",
       "text": [
        "\n",
        "Iter 40000, training error for SGD 0.0000"
       ]
      },
      {
       "output_type": "stream",
       "stream": "stdout",
       "text": [
        "\n",
        "Training error for SGD"
       ]
      },
      {
       "output_type": "stream",
       "stream": "stdout",
       "text": [
        " 8.96152976505e-08\n"
       ]
      },
      {
       "output_type": "pyout",
       "prompt_number": 100,
       "text": [
        "40000"
       ]
      },
      {
       "output_type": "display_data",
       "png": "[encoded data removed]"
      },
      {
       "output_type": "display_data",
       "png": "[encoded data removed]"
      }
     ],
     "prompt_number": 100
    },
    {
     "cell_type": "code",
     "collapsed": false,
     "input": [
      "def par_sgd(x, y, w_init, n_workers, local_learning_rate = 0.1, global_learning_rate = 0.5, tol = 10.0 ** -7, maxiters = 1000, local_steps = 10):\n",
      "    w = w_init \n",
      "    curr_err = np.inf\n",
      "    norms = []\n",
      "    i = 0\n",
      "    g = gradient(x,y,w)\n",
      "    n_samples = len(x)\n",
      "    while curr_err > tol and i < maxiters:\n",
      "        i += 1\n",
      "        dxs = []\n",
      "        dgs = []\n",
      "        for worker_num in xrange(n_workers):\n",
      "            local_idx = np.random.randint(0, n_samples, local_steps)\n",
      "            local_x = x[local_idx]\n",
      "            local_y = y[local_idx]\n",
      "            g_start = gradient(local_x, local_y, w_start)\n",
      "            \n",
      "            g_end = gradient(local_x, local_y, w_stop)\n",
      "            \n",
      "                "
     ],
     "language": "python",
     "metadata": {},
     "outputs": [
      {
       "ename": "IndentationError",
       "evalue": "expected an indented block (<ipython-input-103-f447f5e43e41>, line 15)",
       "output_type": "pyerr",
       "traceback": [
        "\u001b[0;36m  File \u001b[0;32m\"<ipython-input-103-f447f5e43e41>\"\u001b[0;36m, line \u001b[0;32m15\u001b[0m\n\u001b[0;31m    \u001b[0m\n\u001b[0m    ^\u001b[0m\n\u001b[0;31mIndentationError\u001b[0m\u001b[0;31m:\u001b[0m expected an indented block\n"
       ]
      }
     ],
     "prompt_number": 103
    }
   ],
   "metadata": {}
  }
 ]
}