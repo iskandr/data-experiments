{
 "metadata": {
  "name": "regression"
 },
 "nbformat": 3,
 "nbformat_minor": 0,
 "worksheets": [
  {
   "cells": [
    {
     "cell_type": "code",
     "collapsed": false,
     "input": [
      "import numpy as np"
     ],
     "language": "python",
     "metadata": {},
     "outputs": [],
     "prompt_number": 1
    },
    {
     "cell_type": "code",
     "collapsed": false,
     "input": [
      "nsamples = 10**5\n",
      "ndims = 1000\n",
      "w_actual = np.random.randn(ndims)\n",
      "x = np.random.randn(nsamples, ndims)\n",
      "y = np.dot(x, w_actual) \n"
     ],
     "language": "python",
     "metadata": {},
     "outputs": [],
     "prompt_number": 13
    },
    {
     "cell_type": "code",
     "collapsed": false,
     "input": [
      "def gradient(x,y,w):\n",
      "\n",
      "    if len(x.shape) == 1:\n",
      "      return x * (np.dot(x,w) - y)\n",
      "    else:\n",
      "      g = np.zeros_like(x[0])\n",
      "      for i, xi in enumerate(x):\n",
      "        g += xi * (np.dot(xi, w) - y[i])\n",
      "      return g / x.shape[0]\n"
     ],
     "language": "python",
     "metadata": {},
     "outputs": [],
     "prompt_number": 14
    },
    {
     "cell_type": "code",
     "collapsed": false,
     "input": [
      "w_init = np.random.randn(ndims)\n"
     ],
     "language": "python",
     "metadata": {},
     "outputs": [],
     "prompt_number": 15
    },
    {
     "cell_type": "code",
     "collapsed": false,
     "input": [
      "def sgd(x, y, w_init, learning_rate = 0.001, tol = 10.0 ** -4, maxiters = 10**4, show_plot = True, verbose = True):\n",
      "    curr_err = np.inf \n",
      "    i = 0\n",
      "    norms = []\n",
      "    errs = []\n",
      "    w = w_init.copy() \n",
      "    n_samples = len(x)\n",
      "    while curr_err > tol and i < maxiters:\n",
      "        i += 1\n",
      "        sample_id = i % n_samples\n",
      "        g = gradient(x[sample_id, :],y[sample_id],w)\n",
      "        norm = np.linalg.norm(g)\n",
      "        norms.append(norm)\n",
      "        w -= learning_rate * g\n",
      "        err = np.abs(np.dot(x[sample_id, :], w) - y[sample_id])\n",
      "        errs.append(err)\n",
      "        if verbose and (i % 1000 == 0):\n",
      "          curr_err = np.mean(np.abs(np.dot(x, w) - y))\n",
      "          print \"Iter %d, training error for SGD %0.4f\" % (i, curr_err)\n",
      "    if show_plot:\n",
      "      plot(norms)\n",
      "      ylabel(\"norm\")\n",
      "      figure()\n",
      "      plot(errs)\n",
      "      ylabel(\"per-sample error\")\n",
      "    if verbose:\n",
      "      print \"Training error for SGD\", np.mean(np.abs(np.dot(x, w) - y))\n",
      "    return i, w"
     ],
     "language": "python",
     "metadata": {},
     "outputs": [],
     "prompt_number": 16
    },
    {
     "cell_type": "code",
     "collapsed": false,
     "input": [
      "_ = sgd(x,y,w_init)"
     ],
     "language": "python",
     "metadata": {},
     "outputs": [
      {
       "output_type": "stream",
       "stream": "stdout",
       "text": [
        "Iter 1000, training error for SGD 20.6858\n",
        "Iter 2000, training error for SGD 12.6949"
       ]
      },
      {
       "output_type": "stream",
       "stream": "stdout",
       "text": [
        "\n",
        "Iter 3000, training error for SGD 7.8719"
       ]
      },
      {
       "output_type": "stream",
       "stream": "stdout",
       "text": [
        "\n",
        "Iter 4000, training error for SGD 4.8696"
       ]
      },
      {
       "output_type": "stream",
       "stream": "stdout",
       "text": [
        "\n",
        "Iter 5000, training error for SGD 3.0315"
       ]
      },
      {
       "output_type": "stream",
       "stream": "stdout",
       "text": [
        "\n",
        "Iter 6000, training error for SGD 1.8361"
       ]
      },
      {
       "output_type": "stream",
       "stream": "stdout",
       "text": [
        "\n",
        "Iter 7000, training error for SGD 1.1288"
       ]
      },
      {
       "output_type": "stream",
       "stream": "stdout",
       "text": [
        "\n",
        "Iter 8000, training error for SGD 0.7069"
       ]
      },
      {
       "output_type": "stream",
       "stream": "stdout",
       "text": [
        "\n",
        "Iter 9000, training error for SGD 0.4408"
       ]
      },
      {
       "output_type": "stream",
       "stream": "stdout",
       "text": [
        "\n",
        "Iter 10000, training error for SGD 0.2567"
       ]
      },
      {
       "output_type": "stream",
       "stream": "stdout",
       "text": [
        "\n",
        "Training error for SGD"
       ]
      },
      {
       "output_type": "stream",
       "stream": "stdout",
       "text": [
        " 0.256724256232\n"
       ]
      },
      {
       "output_type": "display_data",
       "png": "[encoded data removed]"
      },
      {
       "output_type": "display_data",
       "png": "[encoded data removed]"
      }
     ],
     "prompt_number": 17
    },
    {
     "cell_type": "code",
     "collapsed": false,
     "input": [
      "def par_sgd(x, y, w_init, n_workers, \n",
      "           local_learning_rate = 0.001, \n",
      "           global_learning_rate = 1, \n",
      "           tol = 10.0 ** -4, \n",
      "           maxiters = 100, \n",
      "           local_steps = 10,\n",
      "           newton = True, \n",
      "           avg_weights = False, \n",
      "           momentum = True, \n",
      "           verbose = True):\n",
      "    w_global = w_init \n",
      "    curr_err = np.inf\n",
      "    norms = []\n",
      "    i = 0\n",
      "    n_samples = len(x)\n",
      "  \n",
      "    while (curr_err > tol) and (i < maxiters):\n",
      "        i += 1\n",
      "        dws = []\n",
      "        dgs = []\n",
      "        local_weights = []\n",
      "        local_xs = []\n",
      "        local_ys = []\n",
      "        for worker_num in xrange(n_workers):\n",
      "            local_idx = np.random.randint(0, n_samples, local_steps)\n",
      "      \n",
      "            local_x = x[local_idx, :]\n",
      "            local_y = y[local_idx]\n",
      "            local_xs.append(local_x)\n",
      "            local_ys.append(local_y)\n",
      "            w = w_global.copy()\n",
      "            g_start = gradient(local_x, local_y, w)\n",
      "            \n",
      "            for sample_id in xrange(local_steps):\n",
      "                xi = local_x[sample_id, :]\n",
      "                yi = local_y[sample_id]\n",
      "                g = gradient(xi, yi, w)\n",
      "                w -= local_learning_rate * g\n",
      "            dg = gradient(local_x, local_y, w) - g_start \n",
      "            dw = w - w_global\n",
      "            dws.append(dw)\n",
      "            dgs.append(dg)\n",
      "            local_weights.append(w)\n",
      "        \n",
      "    \n",
      "        if avg_weights:\n",
      "          w_combined = np.mean(np.array(local_weights), axis = 0)\n",
      "        else:\n",
      "          best_err = np.inf \n",
      "          best_weight = None\n",
      "          val_idx = np.random.randint(0, n_samples, 10*local_steps)\n",
      "          val_x = x[val_idx]\n",
      "          val_y = y[val_idx]\n",
      "          for local_weight in local_weights:\n",
      "            local_err = np.mean(np.abs(np.dot(val_x, local_weight) - val_y))\n",
      "            if local_err < best_err:\n",
      "                best_err = local_err\n",
      "                best_weight = local_weight\n",
      "          # w_avg = np.mean(np.array(local_weights), axis=0)\n",
      "          w_combined = best_weight\n",
      "        \n",
      "        local_gradients = []\n",
      "        for worker_num in xrange(n_workers):\n",
      "            val_idx = np.random.randint(0, n_samples, 100)\n",
      "            local_x = x[val_idx]\n",
      "            local_y = y[val_idx]\n",
      "            local_gradients.append(gradient(local_x, local_y, w_combined))\n",
      "        g = np.mean(np.array(local_gradients), axis=0)\n",
      "        if newton:\n",
      "          G = np.array(dgs)\n",
      "          W = np.array(dws)\n",
      "          U, D, Vt = np.linalg.svd(G.T, full_matrices=False)\n",
      "          Ug = np.dot(U.T, g)\n",
      "          DinvUg = np.dot(np.diag(1.0 / D), Ug)\n",
      "          VDinvUg = np.dot(Vt.T, DinvUg)  \n",
      "          search_dir = -np.dot(W.T, VDinvUg)\n",
      "        else:\n",
      "          search_dir = -g\n",
      "\n",
      "        norms.append(np.linalg.norm(search_dir))\n",
      "        \n",
      "        if global_learning_rate == 'search':\n",
      "            etas = 10.0 ** np.array([3,2.5,2,1.5, 1, 0.5, 0, -0.5, -1, -1.5, -2])\n",
      "            best_err = np.inf \n",
      "            best_weights = None\n",
      "            val_idx = np.random.randint(0, n_samples, 100)\n",
      "            val_x = x[val_idx]\n",
      "            val_y = y[val_idx]\n",
      "            best_eta = None\n",
      "            for eta in etas:\n",
      "                w_global = w_combined + eta * search_dir\n",
      "                err = np.mean(np.abs(np.dot(val_x, w_global) - val_y))\n",
      "                \n",
      "                if err < best_err:\n",
      "                    best_eta = eta\n",
      "                    best_err = err\n",
      "                    best_weight = w_global\n",
      "            print \" -- chose eta = %s\" % best_eta \n",
      "            w_global = best_weight\n",
      "        else:\n",
      "          w_global = w_combined + global_learning_rate * search_dir\n",
      "        \n",
      "        if verbose:\n",
      "          curr_err = np.mean(np.abs(np.dot(x, w_global) - y))\n",
      "          print \"Iter %d, grad_norm %0.4f, search_dir norm %0.4f, training error for SGD %0.4f\" % \\\n",
      "            (i, np.linalg.norm(g), np.linalg.norm(search_dir), curr_err)\n",
      "  \n",
      "    print \"Finished after %d iters\" % i \n",
      "    return i, w_global\n",
      "        \n",
      "         "
     ],
     "language": "python",
     "metadata": {},
     "outputs": [],
     "prompt_number": 123
    },
    {
     "cell_type": "code",
     "collapsed": false,
     "input": [
      "par_sgd(x,y,w_init, 10, global_learning_rate = 'search', maxiters=10, newton=False, avg_weights = True, local_steps = 128)"
     ],
     "language": "python",
     "metadata": {},
     "outputs": [
      {
       "output_type": "stream",
       "stream": "stdout",
       "text": [
        " -- chose eta = 0.316227766017\n",
        "Iter 1, grad_norm 57.2192, search_dir norm 57.2192, training error for SGD 22.6462"
       ]
      },
      {
       "output_type": "stream",
       "stream": "stdout",
       "text": [
        "\n",
        " -- chose eta = 0.316227766017"
       ]
      },
      {
       "output_type": "stream",
       "stream": "stdout",
       "text": [
        "\n",
        "Iter 2, grad_norm 35.0035, search_dir norm 35.0035, training error for SGD 15.1781"
       ]
      },
      {
       "output_type": "stream",
       "stream": "stdout",
       "text": [
        "\n",
        " -- chose eta = 0.316227766017"
       ]
      },
      {
       "output_type": "stream",
       "stream": "stdout",
       "text": [
        "\n",
        "Iter 3, grad_norm 24.6427, search_dir norm 24.6427, training error for SGD 10.1450"
       ]
      },
      {
       "output_type": "stream",
       "stream": "stdout",
       "text": [
        "\n",
        " -- chose eta = 0.316227766017"
       ]
      },
      {
       "output_type": "stream",
       "stream": "stdout",
       "text": [
        "\n",
        "Iter 4, grad_norm 16.0719, search_dir norm 16.0719, training error for SGD 6.8603"
       ]
      },
      {
       "output_type": "stream",
       "stream": "stdout",
       "text": [
        "\n",
        " -- chose eta = 0.316227766017"
       ]
      },
      {
       "output_type": "stream",
       "stream": "stdout",
       "text": [
        "\n",
        "Iter 5, grad_norm 11.3003, search_dir norm 11.3003, training error for SGD 4.5613"
       ]
      },
      {
       "output_type": "stream",
       "stream": "stdout",
       "text": [
        "\n",
        " -- chose eta = 0.316227766017"
       ]
      },
      {
       "output_type": "stream",
       "stream": "stdout",
       "text": [
        "\n",
        "Iter 6, grad_norm 6.9721, search_dir norm 6.9721, training error for SGD 3.0173"
       ]
      },
      {
       "output_type": "stream",
       "stream": "stdout",
       "text": [
        "\n",
        " -- chose eta = 0.316227766017"
       ]
      },
      {
       "output_type": "stream",
       "stream": "stdout",
       "text": [
        "\n",
        "Iter 7, grad_norm 4.7704, search_dir norm 4.7704, training error for SGD 2.0512"
       ]
      },
      {
       "output_type": "stream",
       "stream": "stdout",
       "text": [
        "\n",
        " -- chose eta = 0.316227766017"
       ]
      },
      {
       "output_type": "stream",
       "stream": "stdout",
       "text": [
        "\n",
        "Iter 8, grad_norm 3.2790, search_dir norm 3.2790, training error for SGD 1.4002"
       ]
      },
      {
       "output_type": "stream",
       "stream": "stdout",
       "text": [
        "\n",
        " -- chose eta = 0.316227766017"
       ]
      },
      {
       "output_type": "stream",
       "stream": "stdout",
       "text": [
        "\n",
        "Iter 9, grad_norm 2.2273, search_dir norm 2.2273, training error for SGD 0.9379"
       ]
      },
      {
       "output_type": "stream",
       "stream": "stdout",
       "text": [
        "\n",
        " -- chose eta = 0.316227766017"
       ]
      },
      {
       "output_type": "stream",
       "stream": "stdout",
       "text": [
        "\n",
        "Iter 10, grad_norm 1.4242, search_dir norm 1.4242, training error for SGD 0.6453"
       ]
      },
      {
       "output_type": "stream",
       "stream": "stdout",
       "text": [
        "\n",
        "Finished after 10 iters\n"
       ]
      },
      {
       "output_type": "pyout",
       "prompt_number": 151,
       "text": [
        "(10,\n",
        " array([  6.60991512e-01,  -4.69065956e-01,  -6.41322291e-01,\n",
        "        -4.08208004e-01,   9.44572445e-01,   5.70692608e-01,\n",
        "         4.01903770e-01,   8.93307159e-01,   4.72446576e-01,\n",
        "         3.20796904e-01,   1.44101575e+00,   1.04803094e-01,\n",
        "        -3.19502590e-01,   2.05098276e+00,   1.20824127e+00,\n",
        "         1.07981501e+00,   1.44935512e+00,   2.04042890e-01,\n",
        "        -1.91573944e+00,   2.44154446e+00,   7.17455303e-01,\n",
        "        -4.43504681e-01,   1.25199319e-01,  -6.99114639e-01,\n",
        "        -1.35023265e+00,  -1.10286481e-01,  -6.77735908e-01,\n",
        "         8.54996073e-01,  -1.51857203e+00,  -5.97024744e-01,\n",
        "         1.07497700e+00,  -1.16202749e+00,  -4.20175573e-01,\n",
        "         2.01052664e+00,  -7.40472391e-01,  -2.34176715e+00,\n",
        "        -3.24212689e-01,   1.45207100e+00,  -8.96796945e-01,\n",
        "         1.97953357e+00,   7.55314878e-01,  -1.05347914e+00,\n",
        "        -8.59902629e-01,   9.88443362e-01,   9.84154006e-01,\n",
        "         1.16153984e+00,  -1.07578318e+00,  -5.55358668e-01,\n",
        "        -6.14623063e-01,   2.74011938e-01,  -9.48769708e-01,\n",
        "        -1.92863272e+00,   1.29536718e+00,  -1.41322125e-01,\n",
        "         6.42169482e-01,  -9.23384149e-01,  -1.71217317e+00,\n",
        "         6.61034513e-01,  -7.77944396e-01,  -6.48589183e-01,\n",
        "        -7.55405835e-01,  -1.61450598e-01,   7.18349212e-01,\n",
        "        -1.44878394e+00,   8.49330401e-01,  -6.62557309e-02,\n",
        "        -7.58551323e-02,   5.35351101e-01,   8.18120464e-01,\n",
        "        -2.65469023e-01,   3.33134329e-01,   6.81621601e-01,\n",
        "         1.75210306e+00,   2.81784575e-01,   2.91809520e-01,\n",
        "         9.80051476e-01,   2.05945040e-01,   8.12294855e-01,\n",
        "        -2.34824660e-01,   6.43572511e-01,   2.82961186e-01,\n",
        "         4.12725021e-03,   1.51037315e+00,  -3.64981305e-01,\n",
        "         1.27157585e-01,  -5.37601760e-01,  -1.56872071e-01,\n",
        "         1.90354515e-01,  -1.89393971e+00,  -1.14602960e-01,\n",
        "         2.11600644e-01,  -9.18453629e-02,  -7.22623801e-01,\n",
        "         4.81749073e-01,  -2.86833111e-01,   7.79941597e-01,\n",
        "        -1.05519681e+00,   4.98611633e-02,  -1.38151222e+00,\n",
        "         9.37473906e-01,  -1.23051666e+00,   1.41372829e-01,\n",
        "         1.96077269e-02,   7.13798260e-01,   9.89343371e-01,\n",
        "        -3.74830560e-01,   9.30893649e-01,   7.25594049e-01,\n",
        "         1.99806501e-01,  -2.19641956e+00,   7.42461429e-01,\n",
        "         4.66616648e-01,  -9.76911038e-01,   6.56008335e-01,\n",
        "        -6.51877093e-01,  -1.95095180e+00,   1.57653736e-01,\n",
        "         8.00630405e-01,  -6.25914644e-01,  -1.37294401e-01,\n",
        "         5.67310089e-01,   1.80721265e+00,  -1.07924018e+00,\n",
        "        -1.10738097e-01,  -1.63651228e+00,  -1.37806563e+00,\n",
        "        -6.70368550e-01,   6.63135075e-01,   3.31836057e-01,\n",
        "         4.85562391e-01,  -1.55271057e+00,   9.70481860e-01,\n",
        "        -1.64665224e+00,  -1.81094185e+00,  -6.30832653e-01,\n",
        "        -1.33351766e+00,   1.21050204e+00,   1.56907951e+00,\n",
        "         8.90282282e-01,   3.51585303e-01,  -6.84735797e-01,\n",
        "         4.12579682e-01,  -1.72118157e+00,  -1.46092731e+00,\n",
        "         4.17235567e-01,   1.96486309e-01,   1.39028618e-01,\n",
        "         1.76177319e+00,   1.33287438e-01,  -1.26755155e+00,\n",
        "        -7.06177486e-02,   5.83390975e-01,   4.32780621e-01,\n",
        "        -1.71518517e+00,   8.49208226e-01,   7.72521494e-01,\n",
        "         8.73049739e-01,  -5.71434713e-01,   3.00736913e-02,\n",
        "         2.29146694e-01,   4.18975826e-02,  -1.94533012e-01,\n",
        "         2.68573034e-01,   8.18101015e-01,  -4.09017807e-01,\n",
        "         3.27347190e-01,  -7.81642573e-01,  -7.46735034e-01,\n",
        "         7.42611807e-01,  -1.74293771e-01,   8.24192471e-01,\n",
        "        -4.72525743e-01,   1.22875753e+00,  -9.85942955e-01,\n",
        "         4.49712428e-01,   4.83740214e-01,   3.58354269e-01,\n",
        "         1.61708716e-01,   8.33573595e-01,  -1.33778994e+00,\n",
        "         1.13130478e+00,   1.15344240e+00,  -6.57869110e-01,\n",
        "         4.04139234e-01,  -5.17543890e-01,  -4.51688307e-01,\n",
        "         6.39044271e-01,  -1.71458644e+00,   8.89906656e-01,\n",
        "        -9.15054260e-01,  -3.70816683e-01,   1.32872222e-01,\n",
        "         8.05410310e-01,   2.06843609e-01,   1.38795635e+00,\n",
        "        -1.54082941e+00,  -3.86743495e-01,   1.52272056e+00,\n",
        "         2.95442595e-01,  -2.62055039e-01,   9.16408956e-01,\n",
        "        -1.10303705e+00,  -1.48941099e-01,   4.72427021e-01,\n",
        "         2.88915996e-01,   6.41763911e-01,   2.07162380e+00,\n",
        "         2.71311202e-01,   8.54720522e-01,   5.70423904e-01,\n",
        "        -5.21853786e-01,   1.43568642e+00,  -2.21999847e+00,\n",
        "         6.01720718e-01,   3.33489311e-01,   1.17252891e+00,\n",
        "         1.68945054e-01,  -1.14257367e-01,  -2.06792136e+00,\n",
        "        -5.17233033e-01,  -1.74750701e+00,  -6.87485081e-02,\n",
        "        -9.67494148e-01,  -1.66086520e+00,   1.10343271e+00,\n",
        "        -1.06749645e+00,  -7.70221888e-02,   3.24779203e-01,\n",
        "        -8.39517529e-01,  -1.44431897e+00,  -1.66597920e+00,\n",
        "         9.70208366e-01,   6.06563708e-01,  -6.35233577e-01,\n",
        "        -7.68248616e-01,  -1.88749145e-01,  -1.26820701e-01,\n",
        "         1.37205644e-01,  -3.77934840e-01,  -1.36992299e+00,\n",
        "         1.48548939e+00,  -1.54430367e+00,  -3.61015861e-01,\n",
        "         1.18387356e+00,  -1.41636401e+00,  -7.50709141e-01,\n",
        "        -5.90613415e-01,  -1.83389386e-01,  -6.82474597e-01,\n",
        "        -2.52439091e-01,   5.39269289e-01,   2.19249208e-01,\n",
        "        -5.33300484e-02,   1.52469359e+00,   6.82572920e-01,\n",
        "        -1.16045062e-01,   1.58160768e+00,   1.02405685e+00,\n",
        "        -8.08082985e-01,   2.40886234e-01,  -2.90120066e-01,\n",
        "         3.31156987e-01,   1.67592086e-02,   7.83069993e-01,\n",
        "         2.45524905e-01,   5.47580705e-01,  -1.91491977e-01,\n",
        "         4.54572358e-01,  -8.76918813e-01,  -1.21626799e+00,\n",
        "        -4.13247969e-02,   3.18539848e-01,  -2.48900056e+00,\n",
        "        -2.51945333e-01,  -6.67370066e-02,   6.19179240e-01,\n",
        "        -6.92533051e-01,  -9.80027580e-01,  -1.76928019e-01,\n",
        "        -7.10775962e-01,   2.37639818e+00,   5.27922068e-01,\n",
        "         9.92541065e-01,   2.35002557e-01,  -3.33934024e-02,\n",
        "         8.69466015e-01,  -1.70160801e-02,  -1.92357461e-01,\n",
        "         1.40782770e+00,   4.28438742e-01,   1.33081958e-01,\n",
        "        -1.10372494e+00,  -8.68128353e-01,   1.18417173e+00,\n",
        "        -6.53564344e-01,  -3.09954292e-01,   7.15481678e-01,\n",
        "         7.52071297e-01,   8.10015690e-03,   5.21124371e-01,\n",
        "         5.68702822e-01,  -2.42047570e-01,  -1.74147947e+00,\n",
        "        -1.30094940e+00,   1.28499994e-02,  -4.45153748e-01,\n",
        "         9.40053621e-01,  -3.54465729e-01,   4.84119795e-01,\n",
        "        -6.54340417e-02,   1.10620490e+00,   3.87400830e-01,\n",
        "        -6.15658745e-01,   9.87272343e-01,   5.98281361e-01,\n",
        "         1.46080145e-01,  -7.65466993e-01,   6.07381513e-03,\n",
        "        -1.30520570e+00,   1.85229111e+00,  -4.55356789e-01,\n",
        "        -1.28017190e+00,  -1.00372083e-01,  -8.70594347e-01,\n",
        "        -9.97802120e-02,  -6.16765656e-01,  -4.48046148e-01,\n",
        "         1.00769615e+00,   3.13594403e-01,   2.22093845e-01,\n",
        "         2.67873413e-01,  -2.44674325e-01,   5.37136624e-01,\n",
        "         6.53354579e-02,  -8.34267072e-01,   2.24903369e-01,\n",
        "        -5.49588996e-01,   9.09062018e-01,   5.72558591e-01,\n",
        "         4.42883133e-02,  -8.96541034e-01,   6.75877676e-01,\n",
        "        -1.90522837e+00,  -1.05271432e-01,  -4.08612421e-01,\n",
        "        -2.22044536e-01,  -1.40620424e+00,   1.42440955e+00,\n",
        "        -1.32018686e+00,  -1.93718491e-01,   2.09476995e-01,\n",
        "        -1.06649336e+00,   9.49939615e-01,   1.12575406e+00,\n",
        "        -5.41494516e-01,  -6.62498669e-01,   1.79332961e-01,\n",
        "         7.38833049e-01,   1.03438381e+00,   2.50136948e-01,\n",
        "        -1.49226127e+00,  -1.01425548e+00,   4.85884874e-01,\n",
        "        -7.13530705e-01,   1.55099342e-01,   9.50043626e-02,\n",
        "        -1.01478416e+00,  -4.34008299e-01,   1.90708188e+00,\n",
        "        -1.18954763e-01,  -3.50998214e-01,  -4.58265151e-01,\n",
        "        -5.01352110e-01,  -1.46708936e+00,   8.90029093e-01,\n",
        "         5.06375646e-01,   4.43297530e-01,   3.24970340e-01,\n",
        "         1.57811741e+00,   4.23079706e-01,  -1.56579475e+00,\n",
        "         1.70972326e-01,   3.98190491e-01,   2.30163570e-02,\n",
        "        -5.58203149e-01,  -7.67030142e-01,   9.92657300e-01,\n",
        "         1.17489323e-01,   1.23314990e+00,   8.84075196e-02,\n",
        "         4.71382273e-01,  -4.66195527e-01,  -1.20592232e-01,\n",
        "        -2.93667327e-01,  -6.56729101e-02,   8.68536670e-02,\n",
        "         9.76473196e-01,   6.38054796e-01,   7.67623285e-01,\n",
        "         1.01548873e-01,   8.92177429e-01,  -1.67787409e+00,\n",
        "         1.00321461e+00,   5.07035921e-02,  -9.79312358e-01,\n",
        "         3.98075901e-01,   6.59556796e-01,  -9.46982439e-01,\n",
        "         1.05605645e-01,   8.80264755e-01,   2.07901046e-01,\n",
        "         2.13368256e+00,  -1.11858566e+00,  -3.82572899e-01,\n",
        "        -7.70084313e-01,   3.97105990e-01,   2.05117599e-01,\n",
        "         3.05200672e-01,   2.18265682e+00,  -1.01810420e+00,\n",
        "        -5.34791373e-02,   9.15113990e-01,   2.55163157e-01,\n",
        "        -4.83332746e-01,  -3.50218548e-01,  -6.09485175e-01,\n",
        "         1.46683004e-01,  -2.39578932e+00,  -7.74944797e-01,\n",
        "         1.76146904e-01,   6.80811946e-02,  -1.79603353e-01,\n",
        "        -4.88235545e-01,   7.16540072e-01,   4.21541774e-01,\n",
        "         5.67691483e-01,   1.98048014e-02,  -3.50020399e-01,\n",
        "        -1.62157841e+00,   6.12170398e-01,  -1.54819917e-01,\n",
        "        -7.75344163e-01,  -5.53190149e-01,   1.10284311e+00,\n",
        "        -1.61193369e+00,  -6.06558590e-01,  -5.66332841e-01,\n",
        "         1.89526532e+00,  -1.21534539e+00,  -4.88914180e-01,\n",
        "        -8.01775965e-01,   4.28055144e-01,   9.71783068e-01,\n",
        "         1.75241615e-01,  -6.56519774e-01,  -1.73607416e+00,\n",
        "         1.59053695e+00,  -4.49891752e-01,   1.65608599e+00,\n",
        "        -1.02134911e-01,  -1.09843759e+00,  -1.81672192e+00,\n",
        "         7.07680529e-01,   9.10864068e-01,  -8.43226039e-01,\n",
        "         9.77229458e-01,  -1.33308169e-02,   8.09597694e-02,\n",
        "         2.88558490e-01,  -1.00285338e+00,   7.30428438e-01,\n",
        "        -1.77109731e+00,  -4.10158438e-01,   1.99921887e+00,\n",
        "         8.91466482e-01,   2.11189017e-01,  -1.50528886e+00,\n",
        "         8.32047626e-01,  -4.12788151e-01,  -7.89886446e-01,\n",
        "         3.14876180e-01,  -7.83757535e-01,  -9.94039768e-01,\n",
        "        -1.32423350e+00,   2.56490476e-01,  -3.91589604e-01,\n",
        "        -3.63361520e-01,   1.02395179e+00,   3.60758657e-01,\n",
        "        -4.47798106e-01,  -1.05713322e+00,   4.26691259e-01,\n",
        "        -1.67708208e-01,   2.92624325e-01,   6.48048222e-01,\n",
        "         1.08466071e+00,  -4.98300990e-01,   1.67462711e+00,\n",
        "        -1.76758049e+00,  -6.52890039e-01,  -9.52951198e-01,\n",
        "        -4.72164684e-01,  -1.83716574e+00,   9.49254208e-01,\n",
        "         1.19684586e+00,  -1.52254998e+00,  -5.74069761e-01,\n",
        "         1.58718581e-01,  -1.12229151e+00,   3.63079649e-01,\n",
        "        -4.13217385e-01,  -1.25889961e-03,  -4.55253691e-02,\n",
        "         7.61007228e-01,   6.76685403e-01,  -7.31410884e-01,\n",
        "         9.86087757e-01,   1.37375627e+00,   1.80801084e+00,\n",
        "         5.56973606e-01,   4.88925691e-01,   2.71397450e+00,\n",
        "        -1.14155663e+00,   1.70612576e+00,   3.01216477e-01,\n",
        "        -2.54386864e+00,   7.41486848e-01,   6.08868773e-01,\n",
        "         3.16204321e-01,  -8.72077321e-01,   1.13848853e+00,\n",
        "         3.42845839e-01,   1.13775345e+00,  -1.08720886e+00,\n",
        "        -4.45317261e-01,  -2.17949277e-01,  -1.86194867e+00,\n",
        "         9.69340634e-03,   1.47690745e-01,  -3.74402908e-01,\n",
        "        -6.03292453e-02,  -2.63131221e+00,   1.28708864e+00,\n",
        "        -2.53029697e+00,  -3.30219657e-01,   6.59673386e-01,\n",
        "         2.14930019e+00,  -3.11261116e-01,   8.80331217e-01,\n",
        "         5.48782214e-01,  -4.00783369e-01,   1.20779271e-03,\n",
        "         9.81490359e-01,   1.93793986e+00,   4.26749995e-01,\n",
        "         3.34702862e-01,   1.28601344e+00,   6.24242735e-01,\n",
        "         1.36642596e+00,  -8.66179716e-01,  -2.43526759e-01,\n",
        "         1.54041138e-02,   1.07039113e+00,  -1.53218305e+00,\n",
        "         1.86655258e+00,   3.73726786e-01,   9.82442564e-02,\n",
        "         1.12731037e+00,   2.51470192e+00,   1.03357016e-01,\n",
        "         1.15100737e+00,   1.19223257e+00,  -7.94940667e-01,\n",
        "        -1.68896204e+00,   7.22425956e-01,   1.49668391e+00,\n",
        "        -5.68318553e-01,  -9.92851660e-01,   5.11629621e-01,\n",
        "        -4.77660062e-02,  -1.96538788e+00,  -6.89092557e-01,\n",
        "        -5.10406923e-01,  -2.71337858e-02,   4.90611356e-01,\n",
        "        -3.72085614e-01,   1.00583282e+00,  -8.40688900e-01,\n",
        "        -1.25522264e+00,  -1.36160707e+00,  -6.92907615e-02,\n",
        "        -1.90239142e+00,   1.13007455e+00,   5.24054137e-01,\n",
        "         1.37686677e+00,  -7.04979010e-01,  -7.06073397e-01,\n",
        "        -1.99638038e+00,   1.51436508e+00,   1.04864565e+00,\n",
        "         4.03822362e-01,  -1.00636628e+00,  -1.10321278e-01,\n",
        "         1.32647206e-01,  -3.19836424e-01,  -2.99529498e-01,\n",
        "        -1.36013078e+00,   2.24299619e-01,   8.36943578e-01,\n",
        "         2.95362806e+00,   6.99776688e-01,   7.55075281e-01,\n",
        "        -2.42121104e-01,   2.09924991e+00,   6.47310633e-01,\n",
        "         4.64310565e-02,  -8.88999277e-01,   6.95431823e-01,\n",
        "        -8.10644084e-01,   6.65921813e-01,   5.14591641e-01,\n",
        "         6.73050604e-01,   1.63971852e-01,   1.36196034e+00,\n",
        "         6.56221832e-01,   1.42839643e+00,  -2.63865736e-02,\n",
        "        -1.87795043e+00,  -1.29667627e+00,   1.51208651e+00,\n",
        "         1.45389457e+00,   2.54139326e-01,   8.90562397e-02,\n",
        "         9.35445003e-01,   4.70091074e-01,   8.54633020e-01,\n",
        "         1.24587551e-01,   8.28889217e-01,   1.36023539e+00,\n",
        "        -4.88170257e-01,  -8.66387928e-02,  -1.23219594e+00,\n",
        "         5.96402513e-01,   6.36379230e-01,   1.10123227e+00,\n",
        "        -2.25752745e+00,  -8.91042202e-01,  -5.66595479e-01,\n",
        "         7.70838592e-03,   2.61316846e+00,  -9.96903447e-02,\n",
        "         2.45379831e-01,  -1.04337308e+00,   3.45075127e-01,\n",
        "         7.16019932e-01,   1.44377630e-01,  -5.46676526e-01,\n",
        "        -2.78247079e-01,  -9.69663077e-01,  -1.00832878e-01,\n",
        "        -1.44549496e+00,  -1.02394268e+00,   8.64381770e-01,\n",
        "         5.49657678e-01,  -6.78904230e-01,  -1.46970083e+00,\n",
        "         3.27535201e-01,   1.95913371e-01,  -1.40203459e+00,\n",
        "        -2.00376288e-02,   6.92831979e-01,   6.22117834e-02,\n",
        "        -8.97170322e-01,   2.08850157e+00,   2.39176846e-01,\n",
        "         1.77485360e+00,  -4.68168037e-01,  -9.84313359e-01,\n",
        "        -1.15305804e-01,   3.93568910e-01,   6.87166703e-01,\n",
        "         1.26646089e-01,   1.03927649e+00,   9.45520664e-01,\n",
        "         1.08949848e-01,   9.43603780e-03,  -1.15461179e+00,\n",
        "         8.50599543e-01,  -5.54465683e-01,   4.57868760e-01,\n",
        "         1.99356834e+00,  -8.94448873e-01,  -1.86628077e+00,\n",
        "        -5.94359921e-01,  -1.31918589e+00,  -2.69244203e-01,\n",
        "         9.32538779e-01,   1.40111348e-01,   8.74775581e-02,\n",
        "         3.59627459e-01,  -1.05741103e+00,   6.72248294e-01,\n",
        "         1.17418118e-01,   7.89296323e-01,  -3.56030847e-01,\n",
        "         1.46064541e-03,   1.32593496e+00,   3.55527737e-01,\n",
        "        -3.87155993e-01,  -1.45493883e-01,   3.39190681e-01,\n",
        "        -5.42607110e-01,  -6.49549391e-01,   4.29446588e-01,\n",
        "        -8.97074580e-01,   1.15126447e+00,   3.40850364e-01,\n",
        "         4.19024194e-01,  -6.95951275e-01,  -1.21732103e-01,\n",
        "         7.40657604e-01,   1.75564252e+00,   9.40973619e-01,\n",
        "         8.19847656e-01,   1.01660743e-01,   1.76164676e-02,\n",
        "         5.17336994e-01,   5.48803641e-01,  -3.18817577e-01,\n",
        "         1.93616702e+00,  -2.60482478e-01,   5.98047650e-01,\n",
        "        -8.98461298e-01,   5.19035270e-01,  -1.83040577e+00,\n",
        "        -5.44659850e-01,   2.50493621e+00,  -1.49125643e+00,\n",
        "        -1.00727321e+00,   1.55244542e+00,   7.63416983e-02,\n",
        "         3.77983204e-02,  -2.28891184e-01,  -4.40889861e-01,\n",
        "         2.35254676e+00,   1.84409997e+00,  -8.61606811e-02,\n",
        "         3.28031294e-02,   2.17643036e-01,   1.33860740e+00,\n",
        "         1.10089503e+00,  -1.06827437e+00,   6.05657356e-01,\n",
        "         6.30388835e-02,  -7.89405952e-01,   1.47166146e+00,\n",
        "         2.87679407e-01,   7.59692456e-01,   8.48814072e-01,\n",
        "        -1.02781852e+00,  -1.62269449e-01,   7.08962699e-01,\n",
        "        -9.84245366e-01,  -5.15315567e-01,   3.18949665e-01,\n",
        "         2.50325533e-01,  -2.11993304e+00,  -1.46451192e+00,\n",
        "         8.59206842e-02,   2.63468072e-01,   6.56014561e-01,\n",
        "         4.75136588e-01,  -8.44048957e-02,   2.10442050e-01,\n",
        "        -6.99453070e-01,   7.06269624e-01,  -5.67999639e-01,\n",
        "        -8.20620267e-01,  -2.24551627e-01,   3.05460218e-01,\n",
        "        -6.41202450e-01,   6.01850862e-01,   1.99647900e+00,\n",
        "         3.11832604e-01,   1.70039143e+00,  -1.93755986e-01,\n",
        "        -3.23265908e-02,  -2.52642503e-01,   3.72602725e-02,\n",
        "         6.24012158e-01,  -7.63466744e-01,  -1.76157532e+00,\n",
        "         2.15957950e-01,  -1.27554329e+00,   8.65325884e-01,\n",
        "        -5.14269540e-03,   8.74618640e-01,  -1.47917116e+00,\n",
        "         4.26274502e-01,   9.70310813e-01,   9.49989885e-01,\n",
        "        -1.10589651e+00,   1.19550058e+00,  -2.93394699e-01,\n",
        "        -8.00716618e-01,   1.90431681e-01,  -6.14353145e-01,\n",
        "        -4.11794931e-01,   7.42133416e-01,  -4.02419927e-02,\n",
        "         6.09432908e-01,  -4.55673109e-01,  -9.22466609e-01,\n",
        "        -1.01501431e+00,  -1.07917232e+00,   5.11817336e-02,\n",
        "         5.50581009e-01,  -5.41843502e-01,   1.07104279e+00,\n",
        "        -2.37141023e-02,   6.74048581e-02,  -1.71356859e-01,\n",
        "         1.44974483e+00,  -1.05862042e+00,   1.20367983e+00,\n",
        "        -1.17136955e+00,   1.16813901e+00,   1.71098253e+00,\n",
        "         5.87239271e-01,   1.41978949e+00,   2.63505394e-01,\n",
        "         1.88002107e+00,  -3.41449344e-02,  -8.21003340e-01,\n",
        "        -9.54808308e-01,  -7.28316038e-01,   7.72923258e-01,\n",
        "         1.52391689e+00,  -6.67239249e-01,  -8.10902078e-01,\n",
        "         4.44907576e-01,   3.20526461e-01,  -6.16054043e-01,\n",
        "         2.14147780e-01,   2.51783934e+00,   2.66284756e-01,\n",
        "        -1.20348728e+00,  -5.21349613e-01,   3.88962565e-01,\n",
        "        -4.13923943e-01,  -2.28053228e-01,   3.09979897e+00,\n",
        "        -4.07016336e-01,   1.45614032e+00,   6.62677455e-01,\n",
        "         3.13711731e-01,   2.95700107e+00,  -7.30938957e-01,\n",
        "        -6.00819422e-01,   1.22165702e-01,   4.50593586e-01,\n",
        "        -1.23604932e+00,  -2.51411346e-01,   1.31156527e+00,\n",
        "         2.92802217e-01,   9.35851696e-01,  -7.42661140e-03,\n",
        "         6.31626670e-01,  -1.11887155e-01,   7.43164083e-01,\n",
        "         3.41229988e-01,   5.27139851e-01,  -8.19680531e-01,\n",
        "         9.19793386e-01,  -3.41761853e-01,   1.81481858e-01,\n",
        "         3.80710004e-01,  -6.64368741e-01,   2.38409310e-01,\n",
        "         1.03836472e+00,   8.72526099e-01,  -4.43739409e-01,\n",
        "         2.29775884e+00,  -1.10574142e+00,  -4.29060370e-01,\n",
        "        -4.91204970e-01,   2.44785159e-01,  -8.59205677e-01,\n",
        "        -6.28682099e-01,  -3.94150032e-01,   2.16912059e-01,\n",
        "         9.06280836e-01,   1.42848344e-01,  -2.91929639e-01,\n",
        "         1.79219210e+00,  -7.73476737e-01,  -1.27306641e+00,\n",
        "        -7.06041930e-01,   1.34317969e+00,  -6.38931696e-01,\n",
        "        -9.62961957e-01,  -1.09640985e+00,  -4.82363843e-01,\n",
        "        -5.18829178e-02,   1.36753163e+00,  -4.99929902e-01,\n",
        "        -4.08570673e-01,  -4.58052130e-01,  -3.10925541e-02,\n",
        "         2.51098806e-01,   2.45511571e+00,   9.37404375e-02,\n",
        "         8.48352641e-01,   1.18426299e-01,  -1.53783631e-01,\n",
        "        -5.02431695e-01,  -2.94468311e-02,  -1.51208164e+00,\n",
        "         1.14562511e+00,  -2.31498815e-01,  -1.28928549e-01,\n",
        "        -2.90299461e-01,   7.96425477e-01,  -4.38009598e-01,\n",
        "         1.49842948e-01,  -1.67835030e+00,  -1.76008858e+00,\n",
        "         1.42364441e+00,  -1.21746398e+00,  -6.64726052e-02,\n",
        "         6.18089967e-01,  -1.26084888e+00,  -1.46749275e+00,\n",
        "        -8.45512148e-01,  -2.55898729e-01,  -1.19756308e+00,\n",
        "        -2.62132132e-03,   1.30627451e+00,  -3.81676421e-01,\n",
        "         7.31568921e-01,  -3.04051537e-01,   6.41784674e-01,\n",
        "         1.62580618e-01,  -3.64575881e-01,  -4.43651703e-01,\n",
        "         7.95916654e-01,  -1.42199942e-01,   1.85215759e+00,\n",
        "        -6.80771150e-01,  -1.12435094e-01,  -3.74116306e-01,\n",
        "        -3.82315559e-01,  -8.49073127e-01,   1.69695220e+00,\n",
        "         1.64946859e-01,   9.08334085e-02,  -2.94659819e-01,\n",
        "         1.32656286e+00,   2.13726541e+00,  -2.29964888e-01,\n",
        "         9.55211117e-01,   7.69403095e-01,  -1.07293961e-01,\n",
        "        -1.13579451e+00,  -4.19247759e-01,   9.60605688e-02,\n",
        "        -1.57276332e+00,   1.35158667e+00,   2.50656968e+00,\n",
        "         1.60435559e+00,   1.25625847e+00,  -1.59187696e+00,\n",
        "        -3.23627127e-01,   1.42070186e+00,  -6.68113787e-01,\n",
        "        -2.05990065e+00,   1.46861907e-01,  -6.27580355e-01,\n",
        "         1.89757657e-01,   4.60847802e-01,  -8.10321936e-01,\n",
        "        -5.14231067e-01,  -2.03075149e-01,  -1.95989125e+00,\n",
        "        -2.57850520e+00,   7.05185631e-01,  -4.87545584e-01,\n",
        "        -8.50931503e-01,   9.16699116e-01,   3.35673295e-01,\n",
        "        -5.08442335e-02,   1.68157080e+00,   2.36929775e-01,\n",
        "        -7.53935360e-01,  -1.43102069e-02,  -8.66273430e-01,\n",
        "         1.14539573e+00,  -5.55036718e-01,  -2.16513617e-02,\n",
        "        -2.86929419e-01]))"
       ]
      }
     ],
     "prompt_number": 151
    },
    {
     "cell_type": "code",
     "collapsed": false,
     "input": [
      "np.dot?"
     ],
     "language": "python",
     "metadata": {},
     "outputs": [],
     "prompt_number": 128
    },
    {
     "cell_type": "code",
     "collapsed": false,
     "input": [],
     "language": "python",
     "metadata": {},
     "outputs": []
    }
   ],
   "metadata": {}
  }
 ]
}